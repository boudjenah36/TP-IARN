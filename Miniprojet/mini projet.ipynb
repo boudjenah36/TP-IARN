{
 "cells": [
  {
   "cell_type": "markdown",
   "id": "6b35569d",
   "metadata": {},
   "source": [
    "# Projet de fin de semestre"
   ]
  },
  {
   "cell_type": "markdown",
   "id": "998e02fd",
   "metadata": {},
   "source": [
    "Ce projet vise à aborder le problème de la détection de spam en utilisant des techniques de Machine Learning (ML) apprises au cours du semestre, ainsi que des réseaux de neurones. Notre objectif est de développer un système capable d'identifier efficacement les courriels indésirables dans une boîte de réception.\n",
    "\n",
    "Le processus de détection de spam comprend plusieurs étapes clés. Tout d'abord, nous effectuons un prétraitement des données en éliminant les informations redondantes, en normalisant le texte et en supprimant les éléments non pertinents. Cela permet de préparer les données pour l'étape suivante.\n",
    "\n",
    "Ensuite, nous procédons à l'extraction de caractéristiques à partir des courriels. Les caractéristiques peuvent inclure des informations telles que les mots clés, la fréquence des termes, les informations de l'expéditeur, etc. Ces caractéristiques permettent de représenter les courriels de manière appropriée pour l'entraînement des modèles.\n",
    "\n",
    "Après l'extraction des caractéristiques, nous passons à l'étape d'entraînement et d'évaluation des modèles. Nous utilisons des techniques de ML, telles que les réseaux de neurones, pour développer des modèles capables d'apprendre à distinguer les courriels de spam des courriels légitimes. Nous ajustons les hyperparamètres des modèles et les entraînons sur un ensemble de données d'entraînement.\n",
    "\n",
    "Enfin, nous évaluons les performances de nos modèles en utilisant des métriques telles que la précision, le rappel et la F-mesure. Nous comparons également les résultats obtenus par différents modèles pour identifier celui qui offre les meilleures performances dans la détection de spam.\n",
    "\n",
    "Ce projet nous permettra de mettre en pratique les connaissances acquises en ML et d'explorer l'utilisation des réseaux de neurones dans un domaine spécifique, en l'occurrence la détection de spam."
   ]
  },
  {
   "cell_type": "markdown",
   "id": "eebb9fe0",
   "metadata": {},
   "source": [
    "## Justification du choix des bibliotheques "
   ]
  },
  {
   "cell_type": "markdown",
   "id": "10623860",
   "metadata": {},
   "source": [
    "* **scikit-learn** : Nous avons choisi d'utiliser scikit-learn pour ses fonctionnalités d'évaluation des modèles et pour son large éventail d'algorithmes d'apprentissage automatique pré-implémentés. Scikit-learn fournit des outils pour évaluer la performance des modèles à l'aide de métriques telles que la précision, le rappel, la F-mesure, etc. De plus, il offre des fonctionnalités avancées telles que la validation croisée et l'optimisation des hyperparamètres.\n",
    "\n",
    "* **Keras** avec TensorFlow comme backend : Nous avons opté pour Keras en combinaison avec TensorFlow comme backend pour l'implémentation des réseaux de neurones. Keras est une bibliothèque conviviale et puissante qui facilite la création et l'entraînement des modèles de réseaux de neurones. TensorFlow, quant à lui, fournit une infrastructure solide pour exécuter des calculs sur des graphiques de flux de données et optimise les performances des opérations de calcul nécessaires à l'entraînement des réseaux de neurones.\n",
    "\n",
    "* **NumPy** : Nous avons utilisé NumPy pour le prétraitement des données. NumPy est une bibliothèque Python qui offre des structures de données de haute performance pour la manipulation de tableaux multidimensionnels. Elle nous a permis d'effectuer des opérations efficaces sur les données, telles que la normalisation, la transformation et le traitement des matrices.\n",
    "\n",
    "* **NLTK** (Natural Language Toolkit) : Nous avons choisi NLTK pour manipuler le texte dans notre projet de détection de spam. NLTK est une bibliothèque spécialisée dans le traitement du langage naturel en Python. Elle fournit des outils pour le tokenization, la lemmatisation, le stemming, la suppression des stopwords, etc. Ces fonctionnalités nous ont permis de prétraiter efficacement les données textuelles avant de les utiliser dans nos modèles de détection de spam.\n",
    "\n",
    "* **pandas** : Nous avons utilisé pandas pour faciliter le prétraitement des données grâce à ses méthodes puissantes. Cette bibliothèque fournit des structures de données de haute performance (notamment les DataFrames) et des outils de manipulation de données, ce qui nous a permis d'effectuer des opérations telles que le chargement des données, le filtrage, la fusion, le tri, etc. De plus, pandas offre une intégration transparente avec d'autres bibliothèques couramment utilisées en science des données.\n",
    "\n",
    "* **matplotlib** : Nous avons utilisé matplotlib pour créer des graphiques et des visualisations de données. Cette bibliothèque Python permet de générer des graphiques de haute qualité, tels que des histogrammes, des diagrammes en boîte, des diagrammes en barres, des courbes, etc. Ces visualisations nous ont aidés à analyser les résultats de nos modèles et à communiquer efficacement les informations à travers des graphiques clairs et concis.\n",
    "\n",
    "* **pickle** : Nous avons utilisé pickle pour faciliter la sauvegarde et le chargement des données. Pickle est une bibliothèque Python permettant de sérialiser les objets Python en un format binaire, ce qui facilite leur stockage et leur récupération ultérieure. En utilisant pickle, nous avons évité de retraiter les données à chaque exécution du code, ce qui a accéléré le processus de développement et d'évaluation  des modèles."
   ]
  },
  {
   "cell_type": "code",
   "execution_count": 149,
   "id": "e045b898",
   "metadata": {},
   "outputs": [
    {
     "name": "stderr",
     "output_type": "stream",
     "text": [
      "[nltk_data] Downloading package stopwords to\n",
      "[nltk_data]     C:\\Users\\pc\\AppData\\Roaming\\nltk_data...\n",
      "[nltk_data]   Package stopwords is already up-to-date!\n"
     ]
    }
   ],
   "source": [
    "import re\n",
    "import nltk\n",
    "import pandas as pd\n",
    "import os\n",
    "import numpy as np\n",
    "nltk.download('stopwords')\n",
    "from nltk.corpus import stopwords\n",
    "from nltk.stem.porter import PorterStemmer\n",
    "from collections import Counter\n",
    "import tensorflow as tf\n",
    "from keras.callbacks import History\n",
    "from keras.layers import Embedding, Multiply, Dense, Dot, Conv2D, Input, Flatten, Dropout,Conv1D,MaxPooling1D,LSTM, Bidirectional\n",
    "from keras.layers import concatenate\n",
    "from keras.models import Model\n",
    "from tensorflow import expand_dims\n",
    "from tensorflow.keras.utils import to_categorical\n",
    "import pickle\n",
    "import matplotlib.pyplot as plt\n",
    "from sklearn.metrics import roc_curve, auc"
   ]
  },
  {
   "cell_type": "markdown",
   "id": "3b1035b6",
   "metadata": {},
   "source": [
    "## Pretraitement du texte"
   ]
  },
  {
   "cell_type": "code",
   "execution_count": 2,
   "id": "1151d473",
   "metadata": {},
   "outputs": [],
   "source": [
    "def clean_email(email):\n",
    "    # Convertir en minuscules\n",
    "    email = email.lower()\n",
    "    \n",
    "    # Supprimer les balises HTML\n",
    "    email = re.sub(r'<[^<>]+>', '', email)\n",
    "    \n",
    "    # Normaliser les URLs\n",
    "    email = re.sub(r'(http|https)://[^\\s]*', 'httpaddr', email)\n",
    "    \n",
    "    # Normaliser les adresses email\n",
    "    email = re.sub(r'[^\\s]+@[^\\s]+', 'emailaddr', email)\n",
    "    \n",
    "    # Normaliser les nombres\n",
    "    email = re.sub(r'\\d+', 'nombre', email)\n",
    "    \n",
    "    # Normaliser les signes dollar\n",
    "    email = re.sub(r'[$]+', 'dollar', email)\n",
    "    \n",
    "    # Appliquer la radicalisation de mots (Word stemming)\n",
    "    stemmer = PorterStemmer()\n",
    "    words = re.findall(r'\\w+', email)\n",
    "    email = ' '.join([stemmer.stem(word) for word in words])\n",
    "    \n",
    "    # Supprimer les mots vides et la ponctuation et normaliser les espaces blancs\n",
    "    email = re.sub(r'[^a-zA-Z0-9]', ' ', email)\n",
    "    email = re.sub(r'\\s+', ' ', email)\n",
    "    email = email.strip()\n",
    "    \n",
    "    # Supprimer les mots vides\n",
    "    stop_words = set(stopwords.words('english'))\n",
    "    words = email.split()\n",
    "    words = [word for word in words if word not in stop_words]\n",
    "    email = ' '.join(words)\n",
    "    \n",
    "    return email"
   ]
  },
  {
   "cell_type": "code",
   "execution_count": 3,
   "id": "7c35e189",
   "metadata": {},
   "outputs": [],
   "source": [
    "\n",
    "# defining a function to load the data\n",
    "def get_data(path):\n",
    "    # setting an empty list to store the data\n",
    "    data = []\n",
    "    files = os.listdir(path) # getting the files\n",
    "    \n",
    "    for file in files:\n",
    "        # getting the file and loading it in memory\n",
    "        processed_file = open(path + file, encoding = \"ISO-8859-1\")\n",
    "        # reading the file\n",
    "        words_list = processed_file.read()\n",
    "        # appending the processed data\n",
    "        data.append(words_list)\n",
    "        # closing the file\n",
    "        processed_file.close()\n",
    "    \n",
    "    # returning the final result\n",
    "    return data"
   ]
  },
  {
   "cell_type": "code",
   "execution_count": 4,
   "id": "3c5e5427",
   "metadata": {},
   "outputs": [],
   "source": [
    "dat=get_data(\"easy_ham/easy_ham/\")"
   ]
  },
  {
   "cell_type": "code",
   "execution_count": 5,
   "id": "cb558c6e",
   "metadata": {},
   "outputs": [
    {
     "data": {
      "text/html": [
       "<div>\n",
       "<style scoped>\n",
       "    .dataframe tbody tr th:only-of-type {\n",
       "        vertical-align: middle;\n",
       "    }\n",
       "\n",
       "    .dataframe tbody tr th {\n",
       "        vertical-align: top;\n",
       "    }\n",
       "\n",
       "    .dataframe thead th {\n",
       "        text-align: right;\n",
       "    }\n",
       "</style>\n",
       "<table border=\"1\" class=\"dataframe\">\n",
       "  <thead>\n",
       "    <tr style=\"text-align: right;\">\n",
       "      <th></th>\n",
       "      <th>e-mail</th>\n",
       "      <th>label</th>\n",
       "      <th>class</th>\n",
       "    </tr>\n",
       "  </thead>\n",
       "  <tbody>\n",
       "    <tr>\n",
       "      <th>2470</th>\n",
       "      <td>From rssfeeds@jmason.org  Tue Oct  8 10:56:06 ...</td>\n",
       "      <td>0</td>\n",
       "      <td>easy_ham</td>\n",
       "    </tr>\n",
       "    <tr>\n",
       "      <th>141</th>\n",
       "      <td>From ilug-admin@linux.ie  Mon Oct  7 12:07:12 ...</td>\n",
       "      <td>0</td>\n",
       "      <td>easy_ham</td>\n",
       "    </tr>\n",
       "    <tr>\n",
       "      <th>607</th>\n",
       "      <td>From fork-admin@xent.com  Wed Sep 11 13:49:34 ...</td>\n",
       "      <td>0</td>\n",
       "      <td>easy_ham</td>\n",
       "    </tr>\n",
       "    <tr>\n",
       "      <th>2063</th>\n",
       "      <td>From rssfeeds@jmason.org  Thu Sep 26 16:42:08 ...</td>\n",
       "      <td>0</td>\n",
       "      <td>easy_ham</td>\n",
       "    </tr>\n",
       "    <tr>\n",
       "      <th>1448</th>\n",
       "      <td>From spamassassin-talk-admin@lists.sourceforge...</td>\n",
       "      <td>0</td>\n",
       "      <td>easy_ham</td>\n",
       "    </tr>\n",
       "    <tr>\n",
       "      <th>1108</th>\n",
       "      <td>From exmh-users-admin@redhat.com  Thu Sep 19 1...</td>\n",
       "      <td>0</td>\n",
       "      <td>easy_ham</td>\n",
       "    </tr>\n",
       "    <tr>\n",
       "      <th>1385</th>\n",
       "      <td>From rpm-list-admin@freshrpms.net  Tue Oct  8 ...</td>\n",
       "      <td>0</td>\n",
       "      <td>easy_ham</td>\n",
       "    </tr>\n",
       "    <tr>\n",
       "      <th>2233</th>\n",
       "      <td>From rssfeeds@jmason.org  Tue Oct  1 10:37:07 ...</td>\n",
       "      <td>0</td>\n",
       "      <td>easy_ham</td>\n",
       "    </tr>\n",
       "    <tr>\n",
       "      <th>1628</th>\n",
       "      <td>From spamassassin-talk-admin@lists.sourceforge...</td>\n",
       "      <td>0</td>\n",
       "      <td>easy_ham</td>\n",
       "    </tr>\n",
       "    <tr>\n",
       "      <th>2401</th>\n",
       "      <td>From rssfeeds@jmason.org  Sun Oct  6 22:54:35 ...</td>\n",
       "      <td>0</td>\n",
       "      <td>easy_ham</td>\n",
       "    </tr>\n",
       "  </tbody>\n",
       "</table>\n",
       "</div>"
      ],
      "text/plain": [
       "                                                 e-mail  label     class\n",
       "2470  From rssfeeds@jmason.org  Tue Oct  8 10:56:06 ...      0  easy_ham\n",
       "141   From ilug-admin@linux.ie  Mon Oct  7 12:07:12 ...      0  easy_ham\n",
       "607   From fork-admin@xent.com  Wed Sep 11 13:49:34 ...      0  easy_ham\n",
       "2063  From rssfeeds@jmason.org  Thu Sep 26 16:42:08 ...      0  easy_ham\n",
       "1448  From spamassassin-talk-admin@lists.sourceforge...      0  easy_ham\n",
       "1108  From exmh-users-admin@redhat.com  Thu Sep 19 1...      0  easy_ham\n",
       "1385  From rpm-list-admin@freshrpms.net  Tue Oct  8 ...      0  easy_ham\n",
       "2233  From rssfeeds@jmason.org  Tue Oct  1 10:37:07 ...      0  easy_ham\n",
       "1628  From spamassassin-talk-admin@lists.sourceforge...      0  easy_ham\n",
       "2401  From rssfeeds@jmason.org  Sun Oct  6 22:54:35 ...      0  easy_ham"
      ]
     },
     "execution_count": 5,
     "metadata": {},
     "output_type": "execute_result"
    }
   ],
   "source": [
    "df = pd.DataFrame(dat,columns=[\"e-mail\"])\n",
    "df[\"label\"]=0\n",
    "df[\"class\"]=\"easy_ham\"\n",
    "df.sample(10)"
   ]
  },
  {
   "cell_type": "code",
   "execution_count": 6,
   "id": "db7b4356",
   "metadata": {},
   "outputs": [
    {
     "data": {
      "text/html": [
       "<div>\n",
       "<style scoped>\n",
       "    .dataframe tbody tr th:only-of-type {\n",
       "        vertical-align: middle;\n",
       "    }\n",
       "\n",
       "    .dataframe tbody tr th {\n",
       "        vertical-align: top;\n",
       "    }\n",
       "\n",
       "    .dataframe thead th {\n",
       "        text-align: right;\n",
       "    }\n",
       "</style>\n",
       "<table border=\"1\" class=\"dataframe\">\n",
       "  <thead>\n",
       "    <tr style=\"text-align: right;\">\n",
       "      <th></th>\n",
       "      <th>e-mail</th>\n",
       "      <th>label</th>\n",
       "      <th>class</th>\n",
       "    </tr>\n",
       "  </thead>\n",
       "  <tbody>\n",
       "    <tr>\n",
       "      <th>698</th>\n",
       "      <td>emailaddr thu sep nombr nombr nombr nombr nomb...</td>\n",
       "      <td>0</td>\n",
       "      <td>easy_ham</td>\n",
       "    </tr>\n",
       "    <tr>\n",
       "      <th>1052</th>\n",
       "      <td>emailaddr mon sep nombr nombr nombr nombr nomb...</td>\n",
       "      <td>0</td>\n",
       "      <td>easy_ham</td>\n",
       "    </tr>\n",
       "    <tr>\n",
       "      <th>1370</th>\n",
       "      <td>emailaddr tue oct nombr nombr nombr nombr nomb...</td>\n",
       "      <td>0</td>\n",
       "      <td>easy_ham</td>\n",
       "    </tr>\n",
       "    <tr>\n",
       "      <th>1136</th>\n",
       "      <td>emailaddr thu sep nombr nombr nombr nombr nomb...</td>\n",
       "      <td>0</td>\n",
       "      <td>easy_ham</td>\n",
       "    </tr>\n",
       "    <tr>\n",
       "      <th>232</th>\n",
       "      <td>emailaddr wed aug nombr nombr nombr nombr nomb...</td>\n",
       "      <td>0</td>\n",
       "      <td>easy_ham</td>\n",
       "    </tr>\n",
       "    <tr>\n",
       "      <th>2021</th>\n",
       "      <td>emailaddr thu sep nombr nombr nombr nombr nomb...</td>\n",
       "      <td>0</td>\n",
       "      <td>easy_ham</td>\n",
       "    </tr>\n",
       "    <tr>\n",
       "      <th>162</th>\n",
       "      <td>emailaddr tue oct nombr nombr nombr nombr nomb...</td>\n",
       "      <td>0</td>\n",
       "      <td>easy_ham</td>\n",
       "    </tr>\n",
       "    <tr>\n",
       "      <th>2348</th>\n",
       "      <td>emailaddr fri oct nombr nombr nombr nombr nomb...</td>\n",
       "      <td>0</td>\n",
       "      <td>easy_ham</td>\n",
       "    </tr>\n",
       "    <tr>\n",
       "      <th>1557</th>\n",
       "      <td>emailaddr thu sep nombr nombr nombr nombr nomb...</td>\n",
       "      <td>0</td>\n",
       "      <td>easy_ham</td>\n",
       "    </tr>\n",
       "    <tr>\n",
       "      <th>348</th>\n",
       "      <td>emailaddr tue oct nombr nombr nombr nombr nomb...</td>\n",
       "      <td>0</td>\n",
       "      <td>easy_ham</td>\n",
       "    </tr>\n",
       "  </tbody>\n",
       "</table>\n",
       "</div>"
      ],
      "text/plain": [
       "                                                 e-mail  label     class\n",
       "698   emailaddr thu sep nombr nombr nombr nombr nomb...      0  easy_ham\n",
       "1052  emailaddr mon sep nombr nombr nombr nombr nomb...      0  easy_ham\n",
       "1370  emailaddr tue oct nombr nombr nombr nombr nomb...      0  easy_ham\n",
       "1136  emailaddr thu sep nombr nombr nombr nombr nomb...      0  easy_ham\n",
       "232   emailaddr wed aug nombr nombr nombr nombr nomb...      0  easy_ham\n",
       "2021  emailaddr thu sep nombr nombr nombr nombr nomb...      0  easy_ham\n",
       "162   emailaddr tue oct nombr nombr nombr nombr nomb...      0  easy_ham\n",
       "2348  emailaddr fri oct nombr nombr nombr nombr nomb...      0  easy_ham\n",
       "1557  emailaddr thu sep nombr nombr nombr nombr nomb...      0  easy_ham\n",
       "348   emailaddr tue oct nombr nombr nombr nombr nomb...      0  easy_ham"
      ]
     },
     "execution_count": 6,
     "metadata": {},
     "output_type": "execute_result"
    }
   ],
   "source": [
    "df[\"e-mail\"]=df[\"e-mail\"].apply(lambda x : clean_email(x))\n",
    "df.sample(10)"
   ]
  },
  {
   "cell_type": "code",
   "execution_count": 7,
   "id": "52e87ecd",
   "metadata": {},
   "outputs": [],
   "source": [
    "dat1=get_data(\"hard_ham/hard_ham/\")"
   ]
  },
  {
   "cell_type": "code",
   "execution_count": 8,
   "id": "3c859ca0",
   "metadata": {},
   "outputs": [
    {
     "data": {
      "text/html": [
       "<div>\n",
       "<style scoped>\n",
       "    .dataframe tbody tr th:only-of-type {\n",
       "        vertical-align: middle;\n",
       "    }\n",
       "\n",
       "    .dataframe tbody tr th {\n",
       "        vertical-align: top;\n",
       "    }\n",
       "\n",
       "    .dataframe thead th {\n",
       "        text-align: right;\n",
       "    }\n",
       "</style>\n",
       "<table border=\"1\" class=\"dataframe\">\n",
       "  <thead>\n",
       "    <tr style=\"text-align: right;\">\n",
       "      <th></th>\n",
       "      <th>e-mail</th>\n",
       "      <th>label</th>\n",
       "      <th>class</th>\n",
       "    </tr>\n",
       "  </thead>\n",
       "  <tbody>\n",
       "    <tr>\n",
       "      <th>217</th>\n",
       "      <td>From bounce-ora_webprog-1083425@newsletter.ore...</td>\n",
       "      <td>0</td>\n",
       "      <td>hard_ham</td>\n",
       "    </tr>\n",
       "    <tr>\n",
       "      <th>164</th>\n",
       "      <td>From bounce-neatnettricks-2424157@silver.lyris...</td>\n",
       "      <td>0</td>\n",
       "      <td>hard_ham</td>\n",
       "    </tr>\n",
       "    <tr>\n",
       "      <th>30</th>\n",
       "      <td>Return-Path: &lt;Online#3.19820.a5-ydZylz9lGW0yrs...</td>\n",
       "      <td>0</td>\n",
       "      <td>hard_ham</td>\n",
       "    </tr>\n",
       "    <tr>\n",
       "      <th>11</th>\n",
       "      <td>Return-Path: &lt;bounce-lgmac-2534372@sprocket.lo...</td>\n",
       "      <td>0</td>\n",
       "      <td>hard_ham</td>\n",
       "    </tr>\n",
       "    <tr>\n",
       "      <th>93</th>\n",
       "      <td>Return-Path: &lt;Online#3.20341.24-QI_LgZARqA78Cd...</td>\n",
       "      <td>0</td>\n",
       "      <td>hard_ham</td>\n",
       "    </tr>\n",
       "    <tr>\n",
       "      <th>239</th>\n",
       "      <td>Received: from vineyard.net (K1.VINEYARD.NET [...</td>\n",
       "      <td>0</td>\n",
       "      <td>hard_ham</td>\n",
       "    </tr>\n",
       "    <tr>\n",
       "      <th>39</th>\n",
       "      <td>Return-Path: &lt;Online#3.19902.9e-vhsslwTcJGrvPd...</td>\n",
       "      <td>0</td>\n",
       "      <td>hard_ham</td>\n",
       "    </tr>\n",
       "    <tr>\n",
       "      <th>20</th>\n",
       "      <td>Return-Path: &lt;bounce-lghtml-2534368@sprocket.l...</td>\n",
       "      <td>0</td>\n",
       "      <td>hard_ham</td>\n",
       "    </tr>\n",
       "    <tr>\n",
       "      <th>58</th>\n",
       "      <td>Return-Path: &lt;bounce-lgmedia-2534370@sprocket....</td>\n",
       "      <td>0</td>\n",
       "      <td>hard_ham</td>\n",
       "    </tr>\n",
       "    <tr>\n",
       "      <th>131</th>\n",
       "      <td>From rpm-list-admin@freshrpms.net  Wed Oct  9 ...</td>\n",
       "      <td>0</td>\n",
       "      <td>hard_ham</td>\n",
       "    </tr>\n",
       "  </tbody>\n",
       "</table>\n",
       "</div>"
      ],
      "text/plain": [
       "                                                e-mail  label     class\n",
       "217  From bounce-ora_webprog-1083425@newsletter.ore...      0  hard_ham\n",
       "164  From bounce-neatnettricks-2424157@silver.lyris...      0  hard_ham\n",
       "30   Return-Path: <Online#3.19820.a5-ydZylz9lGW0yrs...      0  hard_ham\n",
       "11   Return-Path: <bounce-lgmac-2534372@sprocket.lo...      0  hard_ham\n",
       "93   Return-Path: <Online#3.20341.24-QI_LgZARqA78Cd...      0  hard_ham\n",
       "239  Received: from vineyard.net (K1.VINEYARD.NET [...      0  hard_ham\n",
       "39   Return-Path: <Online#3.19902.9e-vhsslwTcJGrvPd...      0  hard_ham\n",
       "20   Return-Path: <bounce-lghtml-2534368@sprocket.l...      0  hard_ham\n",
       "58   Return-Path: <bounce-lgmedia-2534370@sprocket....      0  hard_ham\n",
       "131  From rpm-list-admin@freshrpms.net  Wed Oct  9 ...      0  hard_ham"
      ]
     },
     "execution_count": 8,
     "metadata": {},
     "output_type": "execute_result"
    }
   ],
   "source": [
    "df1 = pd.DataFrame(dat1,columns=[\"e-mail\"])\n",
    "df1[\"label\"]=0\n",
    "df1[\"class\"]=\"hard_ham\"\n",
    "df1.sample(10)"
   ]
  },
  {
   "cell_type": "code",
   "execution_count": 9,
   "id": "eec28571",
   "metadata": {},
   "outputs": [],
   "source": [
    "\n",
    "df1[\"e-mail\"]=df1[\"e-mail\"].apply(lambda x : clean_email(x))"
   ]
  },
  {
   "cell_type": "code",
   "execution_count": 10,
   "id": "9be68d02",
   "metadata": {},
   "outputs": [],
   "source": [
    "dat2=get_data(\"spam_2/spam_2/\")"
   ]
  },
  {
   "cell_type": "code",
   "execution_count": 11,
   "id": "d6ab7c60",
   "metadata": {},
   "outputs": [
    {
     "data": {
      "text/html": [
       "<div>\n",
       "<style scoped>\n",
       "    .dataframe tbody tr th:only-of-type {\n",
       "        vertical-align: middle;\n",
       "    }\n",
       "\n",
       "    .dataframe tbody tr th {\n",
       "        vertical-align: top;\n",
       "    }\n",
       "\n",
       "    .dataframe thead th {\n",
       "        text-align: right;\n",
       "    }\n",
       "</style>\n",
       "<table border=\"1\" class=\"dataframe\">\n",
       "  <thead>\n",
       "    <tr style=\"text-align: right;\">\n",
       "      <th></th>\n",
       "      <th>e-mail</th>\n",
       "      <th>label</th>\n",
       "      <th>class</th>\n",
       "    </tr>\n",
       "  </thead>\n",
       "  <tbody>\n",
       "    <tr>\n",
       "      <th>1356</th>\n",
       "      <td>From ilug-admin@linux.ie  Thu Aug  8 15:54:40 ...</td>\n",
       "      <td>1</td>\n",
       "      <td>spam</td>\n",
       "    </tr>\n",
       "    <tr>\n",
       "      <th>265</th>\n",
       "      <td>From reply-56446664-6@william.free4all.com  Mo...</td>\n",
       "      <td>1</td>\n",
       "      <td>spam</td>\n",
       "    </tr>\n",
       "    <tr>\n",
       "      <th>8</th>\n",
       "      <td>From spamassassin-sightings-admin@lists.source...</td>\n",
       "      <td>1</td>\n",
       "      <td>spam</td>\n",
       "    </tr>\n",
       "    <tr>\n",
       "      <th>1386</th>\n",
       "      <td>From Jhon67@aol.com  Wed Dec  4 11:58:43 2002\\...</td>\n",
       "      <td>1</td>\n",
       "      <td>spam</td>\n",
       "    </tr>\n",
       "    <tr>\n",
       "      <th>226</th>\n",
       "      <td>From tazgirlcd@msn.com  Wed Jul  3 12:07:43 20...</td>\n",
       "      <td>1</td>\n",
       "      <td>spam</td>\n",
       "    </tr>\n",
       "    <tr>\n",
       "      <th>1363</th>\n",
       "      <td>From fork-admin@xent.com  Wed Aug  7 16:11:18 ...</td>\n",
       "      <td>1</td>\n",
       "      <td>spam</td>\n",
       "    </tr>\n",
       "    <tr>\n",
       "      <th>1195</th>\n",
       "      <td>From fork-admin@xent.com  Wed Jul 31 00:58:23 ...</td>\n",
       "      <td>1</td>\n",
       "      <td>spam</td>\n",
       "    </tr>\n",
       "    <tr>\n",
       "      <th>778</th>\n",
       "      <td>From pitster267540871@hotmail.com  Fri Jul 19 ...</td>\n",
       "      <td>1</td>\n",
       "      <td>spam</td>\n",
       "    </tr>\n",
       "    <tr>\n",
       "      <th>906</th>\n",
       "      <td>Received: from hq.pro-ns.net (localhost [127.0...</td>\n",
       "      <td>1</td>\n",
       "      <td>spam</td>\n",
       "    </tr>\n",
       "    <tr>\n",
       "      <th>572</th>\n",
       "      <td>From hfcfyouroffers676@hotmail.com  Mon Jun 24...</td>\n",
       "      <td>1</td>\n",
       "      <td>spam</td>\n",
       "    </tr>\n",
       "  </tbody>\n",
       "</table>\n",
       "</div>"
      ],
      "text/plain": [
       "                                                 e-mail  label class\n",
       "1356  From ilug-admin@linux.ie  Thu Aug  8 15:54:40 ...      1  spam\n",
       "265   From reply-56446664-6@william.free4all.com  Mo...      1  spam\n",
       "8     From spamassassin-sightings-admin@lists.source...      1  spam\n",
       "1386  From Jhon67@aol.com  Wed Dec  4 11:58:43 2002\\...      1  spam\n",
       "226   From tazgirlcd@msn.com  Wed Jul  3 12:07:43 20...      1  spam\n",
       "1363  From fork-admin@xent.com  Wed Aug  7 16:11:18 ...      1  spam\n",
       "1195  From fork-admin@xent.com  Wed Jul 31 00:58:23 ...      1  spam\n",
       "778   From pitster267540871@hotmail.com  Fri Jul 19 ...      1  spam\n",
       "906   Received: from hq.pro-ns.net (localhost [127.0...      1  spam\n",
       "572   From hfcfyouroffers676@hotmail.com  Mon Jun 24...      1  spam"
      ]
     },
     "execution_count": 11,
     "metadata": {},
     "output_type": "execute_result"
    }
   ],
   "source": [
    "df2 = pd.DataFrame(dat2,columns=[\"e-mail\"])\n",
    "df2[\"label\"]=1\n",
    "df2[\"class\"]=\"spam\"\n",
    "df2.sample(10)"
   ]
  },
  {
   "cell_type": "code",
   "execution_count": 12,
   "id": "9167d546",
   "metadata": {},
   "outputs": [],
   "source": [
    "\n",
    "df2[\"e-mail\"]=df2[\"e-mail\"].apply(lambda x : clean_email(x))"
   ]
  },
  {
   "cell_type": "code",
   "execution_count": 13,
   "id": "f8ce92dd",
   "metadata": {},
   "outputs": [
    {
     "name": "stdout",
     "output_type": "stream",
     "text": [
      "RangeIndex(start=0, stop=4198, step=1)\n"
     ]
    }
   ],
   "source": [
    "#combinaison des trois partie du dataset dans une seule \n",
    "result = pd.concat([df,df1,df2],ignore_index=True )\n",
    "print(result.index)"
   ]
  },
  {
   "cell_type": "code",
   "execution_count": 14,
   "id": "6bae175b",
   "metadata": {},
   "outputs": [
    {
     "data": {
      "text/html": [
       "<div>\n",
       "<style scoped>\n",
       "    .dataframe tbody tr th:only-of-type {\n",
       "        vertical-align: middle;\n",
       "    }\n",
       "\n",
       "    .dataframe tbody tr th {\n",
       "        vertical-align: top;\n",
       "    }\n",
       "\n",
       "    .dataframe thead th {\n",
       "        text-align: right;\n",
       "    }\n",
       "</style>\n",
       "<table border=\"1\" class=\"dataframe\">\n",
       "  <thead>\n",
       "    <tr style=\"text-align: right;\">\n",
       "      <th></th>\n",
       "      <th>e-mail</th>\n",
       "      <th>label</th>\n",
       "      <th>class</th>\n",
       "    </tr>\n",
       "  </thead>\n",
       "  <tbody>\n",
       "    <tr>\n",
       "      <th>0</th>\n",
       "      <td>emailaddr thu aug nombr nombr nombr nombr nomb...</td>\n",
       "      <td>0</td>\n",
       "      <td>easy_ham</td>\n",
       "    </tr>\n",
       "    <tr>\n",
       "      <th>1</th>\n",
       "      <td>emailaddr thu aug nombr nombr nombr nombr nomb...</td>\n",
       "      <td>0</td>\n",
       "      <td>easy_ham</td>\n",
       "    </tr>\n",
       "    <tr>\n",
       "      <th>2</th>\n",
       "      <td>emailaddr thu aug nombr nombr nombr nombr nomb...</td>\n",
       "      <td>0</td>\n",
       "      <td>easy_ham</td>\n",
       "    </tr>\n",
       "    <tr>\n",
       "      <th>3</th>\n",
       "      <td>emailaddr thu aug nombr nombr nombr nombr nomb...</td>\n",
       "      <td>0</td>\n",
       "      <td>easy_ham</td>\n",
       "    </tr>\n",
       "    <tr>\n",
       "      <th>4</th>\n",
       "      <td>emailaddr thu aug nombr nombr nombr nombr nomb...</td>\n",
       "      <td>0</td>\n",
       "      <td>easy_ham</td>\n",
       "    </tr>\n",
       "    <tr>\n",
       "      <th>5</th>\n",
       "      <td>emailaddr thu aug nombr nombr nombr nombr nomb...</td>\n",
       "      <td>0</td>\n",
       "      <td>easy_ham</td>\n",
       "    </tr>\n",
       "    <tr>\n",
       "      <th>6</th>\n",
       "      <td>emailaddr thu aug nombr nombr nombr nombr nomb...</td>\n",
       "      <td>0</td>\n",
       "      <td>easy_ham</td>\n",
       "    </tr>\n",
       "    <tr>\n",
       "      <th>7</th>\n",
       "      <td>emailaddr thu aug nombr nombr nombr nombr nomb...</td>\n",
       "      <td>0</td>\n",
       "      <td>easy_ham</td>\n",
       "    </tr>\n",
       "    <tr>\n",
       "      <th>8</th>\n",
       "      <td>emailaddr thu aug nombr nombr nombr nombr nomb...</td>\n",
       "      <td>0</td>\n",
       "      <td>easy_ham</td>\n",
       "    </tr>\n",
       "    <tr>\n",
       "      <th>9</th>\n",
       "      <td>emailaddr thu aug nombr nombr nombr nombr nomb...</td>\n",
       "      <td>0</td>\n",
       "      <td>easy_ham</td>\n",
       "    </tr>\n",
       "    <tr>\n",
       "      <th>10</th>\n",
       "      <td>emailaddr thu aug nombr nombr nombr nombr nomb...</td>\n",
       "      <td>0</td>\n",
       "      <td>easy_ham</td>\n",
       "    </tr>\n",
       "    <tr>\n",
       "      <th>11</th>\n",
       "      <td>emailaddr thu aug nombr nombr nombr nombr nomb...</td>\n",
       "      <td>0</td>\n",
       "      <td>easy_ham</td>\n",
       "    </tr>\n",
       "    <tr>\n",
       "      <th>12</th>\n",
       "      <td>emailaddr thu aug nombr nombr nombr nombr nomb...</td>\n",
       "      <td>0</td>\n",
       "      <td>easy_ham</td>\n",
       "    </tr>\n",
       "    <tr>\n",
       "      <th>13</th>\n",
       "      <td>emailaddr fri aug nombr nombr nombr nombr nomb...</td>\n",
       "      <td>0</td>\n",
       "      <td>easy_ham</td>\n",
       "    </tr>\n",
       "    <tr>\n",
       "      <th>14</th>\n",
       "      <td>emailaddr thu aug nombr nombr nombr nombr nomb...</td>\n",
       "      <td>0</td>\n",
       "      <td>easy_ham</td>\n",
       "    </tr>\n",
       "    <tr>\n",
       "      <th>15</th>\n",
       "      <td>emailaddr thu aug nombr nombr nombr nombr nomb...</td>\n",
       "      <td>0</td>\n",
       "      <td>easy_ham</td>\n",
       "    </tr>\n",
       "    <tr>\n",
       "      <th>16</th>\n",
       "      <td>emailaddr thu aug nombr nombr nombr nombr nomb...</td>\n",
       "      <td>0</td>\n",
       "      <td>easy_ham</td>\n",
       "    </tr>\n",
       "    <tr>\n",
       "      <th>17</th>\n",
       "      <td>emailaddr thu aug nombr nombr nombr nombr nomb...</td>\n",
       "      <td>0</td>\n",
       "      <td>easy_ham</td>\n",
       "    </tr>\n",
       "    <tr>\n",
       "      <th>18</th>\n",
       "      <td>emailaddr thu aug nombr nombr nombr nombr nomb...</td>\n",
       "      <td>0</td>\n",
       "      <td>easy_ham</td>\n",
       "    </tr>\n",
       "    <tr>\n",
       "      <th>19</th>\n",
       "      <td>emailaddr thu aug nombr nombr nombr nombr nomb...</td>\n",
       "      <td>0</td>\n",
       "      <td>easy_ham</td>\n",
       "    </tr>\n",
       "  </tbody>\n",
       "</table>\n",
       "</div>"
      ],
      "text/plain": [
       "                                               e-mail  label     class\n",
       "0   emailaddr thu aug nombr nombr nombr nombr nomb...      0  easy_ham\n",
       "1   emailaddr thu aug nombr nombr nombr nombr nomb...      0  easy_ham\n",
       "2   emailaddr thu aug nombr nombr nombr nombr nomb...      0  easy_ham\n",
       "3   emailaddr thu aug nombr nombr nombr nombr nomb...      0  easy_ham\n",
       "4   emailaddr thu aug nombr nombr nombr nombr nomb...      0  easy_ham\n",
       "5   emailaddr thu aug nombr nombr nombr nombr nomb...      0  easy_ham\n",
       "6   emailaddr thu aug nombr nombr nombr nombr nomb...      0  easy_ham\n",
       "7   emailaddr thu aug nombr nombr nombr nombr nomb...      0  easy_ham\n",
       "8   emailaddr thu aug nombr nombr nombr nombr nomb...      0  easy_ham\n",
       "9   emailaddr thu aug nombr nombr nombr nombr nomb...      0  easy_ham\n",
       "10  emailaddr thu aug nombr nombr nombr nombr nomb...      0  easy_ham\n",
       "11  emailaddr thu aug nombr nombr nombr nombr nomb...      0  easy_ham\n",
       "12  emailaddr thu aug nombr nombr nombr nombr nomb...      0  easy_ham\n",
       "13  emailaddr fri aug nombr nombr nombr nombr nomb...      0  easy_ham\n",
       "14  emailaddr thu aug nombr nombr nombr nombr nomb...      0  easy_ham\n",
       "15  emailaddr thu aug nombr nombr nombr nombr nomb...      0  easy_ham\n",
       "16  emailaddr thu aug nombr nombr nombr nombr nomb...      0  easy_ham\n",
       "17  emailaddr thu aug nombr nombr nombr nombr nomb...      0  easy_ham\n",
       "18  emailaddr thu aug nombr nombr nombr nombr nomb...      0  easy_ham\n",
       "19  emailaddr thu aug nombr nombr nombr nombr nomb...      0  easy_ham"
      ]
     },
     "execution_count": 14,
     "metadata": {},
     "output_type": "execute_result"
    }
   ],
   "source": [
    "result.head(20)"
   ]
  },
  {
   "cell_type": "code",
   "execution_count": 15,
   "id": "bb317691",
   "metadata": {},
   "outputs": [
    {
     "data": {
      "text/html": [
       "<div>\n",
       "<style scoped>\n",
       "    .dataframe tbody tr th:only-of-type {\n",
       "        vertical-align: middle;\n",
       "    }\n",
       "\n",
       "    .dataframe tbody tr th {\n",
       "        vertical-align: top;\n",
       "    }\n",
       "\n",
       "    .dataframe thead th {\n",
       "        text-align: right;\n",
       "    }\n",
       "</style>\n",
       "<table border=\"1\" class=\"dataframe\">\n",
       "  <thead>\n",
       "    <tr style=\"text-align: right;\">\n",
       "      <th></th>\n",
       "      <th>e-mail</th>\n",
       "      <th>label</th>\n",
       "      <th>class</th>\n",
       "    </tr>\n",
       "  </thead>\n",
       "  <tbody>\n",
       "    <tr>\n",
       "      <th>0</th>\n",
       "      <td>emailaddr mon sep nombr nombr nombr nombr nomb...</td>\n",
       "      <td>0</td>\n",
       "      <td>easy_ham</td>\n",
       "    </tr>\n",
       "    <tr>\n",
       "      <th>1</th>\n",
       "      <td>emailaddr mon sep nombr nombr nombr nombr nomb...</td>\n",
       "      <td>0</td>\n",
       "      <td>easy_ham</td>\n",
       "    </tr>\n",
       "    <tr>\n",
       "      <th>2</th>\n",
       "      <td>return path receiv list theregist co uk thereg...</td>\n",
       "      <td>0</td>\n",
       "      <td>hard_ham</td>\n",
       "    </tr>\n",
       "    <tr>\n",
       "      <th>3</th>\n",
       "      <td>emailaddr tue sep nombr nombr nombr nombr nomb...</td>\n",
       "      <td>0</td>\n",
       "      <td>easy_ham</td>\n",
       "    </tr>\n",
       "    <tr>\n",
       "      <th>4</th>\n",
       "      <td>emailaddr thu aug nombr nombr nombr nombr nomb...</td>\n",
       "      <td>0</td>\n",
       "      <td>easy_ham</td>\n",
       "    </tr>\n",
       "    <tr>\n",
       "      <th>5</th>\n",
       "      <td>emailaddr thu sep nombr nombr nombr nombr nomb...</td>\n",
       "      <td>0</td>\n",
       "      <td>easy_ham</td>\n",
       "    </tr>\n",
       "    <tr>\n",
       "      <th>6</th>\n",
       "      <td>emailaddr mon sep nombr nombr nombr nombr nomb...</td>\n",
       "      <td>0</td>\n",
       "      <td>easy_ham</td>\n",
       "    </tr>\n",
       "    <tr>\n",
       "      <th>7</th>\n",
       "      <td>emailaddr wed oct nombr nombr nombr nombr nomb...</td>\n",
       "      <td>0</td>\n",
       "      <td>easy_ham</td>\n",
       "    </tr>\n",
       "    <tr>\n",
       "      <th>8</th>\n",
       "      <td>return path deliv emailaddr receiv qmail nombr...</td>\n",
       "      <td>0</td>\n",
       "      <td>hard_ham</td>\n",
       "    </tr>\n",
       "    <tr>\n",
       "      <th>9</th>\n",
       "      <td>emailaddr mon sep nombr nombr nombr nombr nomb...</td>\n",
       "      <td>0</td>\n",
       "      <td>easy_ham</td>\n",
       "    </tr>\n",
       "    <tr>\n",
       "      <th>10</th>\n",
       "      <td>emailaddr mon jun nombr nombr nombr nombr nomb...</td>\n",
       "      <td>1</td>\n",
       "      <td>spam</td>\n",
       "    </tr>\n",
       "    <tr>\n",
       "      <th>11</th>\n",
       "      <td>emailaddr thu sep nombr nombr nombr nombr nomb...</td>\n",
       "      <td>0</td>\n",
       "      <td>easy_ham</td>\n",
       "    </tr>\n",
       "    <tr>\n",
       "      <th>12</th>\n",
       "      <td>emailaddr fri sep nombr nombr nombr nombr nomb...</td>\n",
       "      <td>0</td>\n",
       "      <td>easy_ham</td>\n",
       "    </tr>\n",
       "    <tr>\n",
       "      <th>13</th>\n",
       "      <td>emailaddr mon sep nombr nombr nombr nombr nomb...</td>\n",
       "      <td>0</td>\n",
       "      <td>easy_ham</td>\n",
       "    </tr>\n",
       "    <tr>\n",
       "      <th>14</th>\n",
       "      <td>emailaddr mon oct nombr nombr nombr nombr nomb...</td>\n",
       "      <td>0</td>\n",
       "      <td>easy_ham</td>\n",
       "    </tr>\n",
       "    <tr>\n",
       "      <th>15</th>\n",
       "      <td>return path receiv lockergnom com sprocket loc...</td>\n",
       "      <td>0</td>\n",
       "      <td>hard_ham</td>\n",
       "    </tr>\n",
       "    <tr>\n",
       "      <th>16</th>\n",
       "      <td>emailaddr wed oct nombr nombr nombr nombr nomb...</td>\n",
       "      <td>0</td>\n",
       "      <td>easy_ham</td>\n",
       "    </tr>\n",
       "    <tr>\n",
       "      <th>17</th>\n",
       "      <td>emailaddr wed oct nombr nombr nombr nombr nomb...</td>\n",
       "      <td>0</td>\n",
       "      <td>easy_ham</td>\n",
       "    </tr>\n",
       "    <tr>\n",
       "      <th>18</th>\n",
       "      <td>repli wed nombr sep nombr nombr nombr nombr no...</td>\n",
       "      <td>0</td>\n",
       "      <td>easy_ham</td>\n",
       "    </tr>\n",
       "    <tr>\n",
       "      <th>19</th>\n",
       "      <td>emailaddr mon sep nombr nombr nombr nombr nomb...</td>\n",
       "      <td>0</td>\n",
       "      <td>easy_ham</td>\n",
       "    </tr>\n",
       "  </tbody>\n",
       "</table>\n",
       "</div>"
      ],
      "text/plain": [
       "                                               e-mail  label     class\n",
       "0   emailaddr mon sep nombr nombr nombr nombr nomb...      0  easy_ham\n",
       "1   emailaddr mon sep nombr nombr nombr nombr nomb...      0  easy_ham\n",
       "2   return path receiv list theregist co uk thereg...      0  hard_ham\n",
       "3   emailaddr tue sep nombr nombr nombr nombr nomb...      0  easy_ham\n",
       "4   emailaddr thu aug nombr nombr nombr nombr nomb...      0  easy_ham\n",
       "5   emailaddr thu sep nombr nombr nombr nombr nomb...      0  easy_ham\n",
       "6   emailaddr mon sep nombr nombr nombr nombr nomb...      0  easy_ham\n",
       "7   emailaddr wed oct nombr nombr nombr nombr nomb...      0  easy_ham\n",
       "8   return path deliv emailaddr receiv qmail nombr...      0  hard_ham\n",
       "9   emailaddr mon sep nombr nombr nombr nombr nomb...      0  easy_ham\n",
       "10  emailaddr mon jun nombr nombr nombr nombr nomb...      1      spam\n",
       "11  emailaddr thu sep nombr nombr nombr nombr nomb...      0  easy_ham\n",
       "12  emailaddr fri sep nombr nombr nombr nombr nomb...      0  easy_ham\n",
       "13  emailaddr mon sep nombr nombr nombr nombr nomb...      0  easy_ham\n",
       "14  emailaddr mon oct nombr nombr nombr nombr nomb...      0  easy_ham\n",
       "15  return path receiv lockergnom com sprocket loc...      0  hard_ham\n",
       "16  emailaddr wed oct nombr nombr nombr nombr nomb...      0  easy_ham\n",
       "17  emailaddr wed oct nombr nombr nombr nombr nomb...      0  easy_ham\n",
       "18  repli wed nombr sep nombr nombr nombr nombr no...      0  easy_ham\n",
       "19  emailaddr mon sep nombr nombr nombr nombr nomb...      0  easy_ham"
      ]
     },
     "execution_count": 15,
     "metadata": {},
     "output_type": "execute_result"
    }
   ],
   "source": [
    "result = result.sample(frac=1).reset_index(drop=True)\n",
    "result.head(20)"
   ]
  },
  {
   "cell_type": "markdown",
   "id": "022f9139",
   "metadata": {},
   "source": [
    "## Extraction du vocabulaire"
   ]
  },
  {
   "cell_type": "code",
   "execution_count": 16,
   "id": "4209d287",
   "metadata": {},
   "outputs": [],
   "source": [
    "\n",
    "def add_doc_to_vocab(tokens, vocab):\n",
    "    l=len(tokens) \n",
    "    vocab.update(tokens)\n",
    "    return l\n",
    "def get_vocab(corpus, min_occurrence):\n",
    "    words = corpus.tolist()\n",
    "    vocab = Counter()\n",
    "\n",
    "    for w in words:\n",
    "        add_doc_to_vocab(w.split(), vocab)\n",
    "\n",
    "    tokens = [k for k, c in vocab.items() if c >= min_occurrence]\n",
    "    return tokens\n"
   ]
  },
  {
   "cell_type": "markdown",
   "id": "a3c8735b",
   "metadata": {},
   "source": [
    "nous avons selectionner 6 comme le nombre d'occurance minimal aprés plusieure test vu qu'elle donne un juste équilibre entre rapidité d'execution lors de l'extraction des caratéristiques ainsi que de bon résultats lors de la prédiction"
   ]
  },
  {
   "cell_type": "code",
   "execution_count": 17,
   "id": "b807b4a5",
   "metadata": {},
   "outputs": [],
   "source": [
    "\n",
    "corpus = result[\"e-mail\"]\n",
    "tokens=get_vocab(corpus,6)\n",
    "\n"
   ]
  },
  {
   "cell_type": "markdown",
   "id": "6e82b4e1",
   "metadata": {},
   "source": [
    "## Extraction  des caractéristique"
   ]
  },
  {
   "cell_type": "markdown",
   "id": "e256ebdb",
   "metadata": {},
   "source": [
    "nous avons devlopper deux fonction pour extraire les caractéristiques selon les deux méthodes demandées apartir d'une phrase toyte en utilisant aux maximum numpy pour accelerer les calcul vu la grande taille des données par la suite vu que le texte est sauvgaeder dans une colonne du dataframe on utilisra  les methodes de pandas pour extraire les caractéristique de chaque case "
   ]
  },
  {
   "cell_type": "code",
   "execution_count": 18,
   "id": "3954796d",
   "metadata": {},
   "outputs": [],
   "source": [
    "def gen_embed1(vocab, email):\n",
    "    tokens = email.split()\n",
    "    embedding = np.zeros(len(vocab))\n",
    "    token_mask = np.isin(vocab, tokens)\n",
    "    embedding[np.where(token_mask)] = 1\n",
    "    return embedding.tolist()"
   ]
  },
  {
   "cell_type": "code",
   "execution_count": 19,
   "id": "ee4c057c",
   "metadata": {},
   "outputs": [],
   "source": [
    "def gen_embed2(vocab, email):\n",
    "    tokens = email.split()\n",
    "    embedding = np.zeros(len(vocab))\n",
    "    for i, word in enumerate(vocab):\n",
    "        \n",
    "        embedding[i] = tokens.count(word)\n",
    "    return embedding.tolist()"
   ]
  },
  {
   "cell_type": "code",
   "execution_count": 20,
   "id": "851ac2d4",
   "metadata": {},
   "outputs": [],
   "source": [
    "result[\"embed1\"]=result[\"e-mail\"].apply(lambda x : gen_embed1(tokens,x))\n"
   ]
  },
  {
   "cell_type": "code",
   "execution_count": 21,
   "id": "e4627a96",
   "metadata": {},
   "outputs": [
    {
     "data": {
      "text/html": [
       "<div>\n",
       "<style scoped>\n",
       "    .dataframe tbody tr th:only-of-type {\n",
       "        vertical-align: middle;\n",
       "    }\n",
       "\n",
       "    .dataframe tbody tr th {\n",
       "        vertical-align: top;\n",
       "    }\n",
       "\n",
       "    .dataframe thead th {\n",
       "        text-align: right;\n",
       "    }\n",
       "</style>\n",
       "<table border=\"1\" class=\"dataframe\">\n",
       "  <thead>\n",
       "    <tr style=\"text-align: right;\">\n",
       "      <th></th>\n",
       "      <th>e-mail</th>\n",
       "      <th>label</th>\n",
       "      <th>class</th>\n",
       "      <th>embed1</th>\n",
       "      <th>embed2</th>\n",
       "    </tr>\n",
       "  </thead>\n",
       "  <tbody>\n",
       "    <tr>\n",
       "      <th>3072</th>\n",
       "      <td>emailaddr mon aug nombr nombr nombr nombr nomb...</td>\n",
       "      <td>0</td>\n",
       "      <td>easy_ham</td>\n",
       "      <td>[1.0, 1.0, 0.0, 1.0, 1.0, 1.0, 1.0, 1.0, 1.0, ...</td>\n",
       "      <td>[7.0, 10.0, 0.0, 128.0, 1.0, 1.0, 1.0, 7.0, 3....</td>\n",
       "    </tr>\n",
       "    <tr>\n",
       "      <th>4101</th>\n",
       "      <td>emailaddr tue sep nombr nombr nombr nombr nomb...</td>\n",
       "      <td>0</td>\n",
       "      <td>easy_ham</td>\n",
       "      <td>[1.0, 1.0, 1.0, 1.0, 1.0, 1.0, 1.0, 1.0, 1.0, ...</td>\n",
       "      <td>[4.0, 1.0, 5.0, 85.0, 1.0, 1.0, 1.0, 4.0, 3.0,...</td>\n",
       "    </tr>\n",
       "    <tr>\n",
       "      <th>2253</th>\n",
       "      <td>emailaddr sun sep nombr nombr nombr nombr nomb...</td>\n",
       "      <td>0</td>\n",
       "      <td>easy_ham</td>\n",
       "      <td>[1.0, 0.0, 1.0, 1.0, 1.0, 1.0, 1.0, 1.0, 1.0, ...</td>\n",
       "      <td>[7.0, 0.0, 9.0, 141.0, 1.0, 1.0, 2.0, 7.0, 3.0...</td>\n",
       "    </tr>\n",
       "    <tr>\n",
       "      <th>3636</th>\n",
       "      <td>emailaddr mon aug nombr nombr nombr nombr nomb...</td>\n",
       "      <td>0</td>\n",
       "      <td>easy_ham</td>\n",
       "      <td>[1.0, 1.0, 0.0, 1.0, 1.0, 1.0, 1.0, 1.0, 1.0, ...</td>\n",
       "      <td>[8.0, 8.0, 0.0, 97.0, 1.0, 1.0, 2.0, 6.0, 4.0,...</td>\n",
       "    </tr>\n",
       "    <tr>\n",
       "      <th>1694</th>\n",
       "      <td>receiv hq pro ns net localhost nombr nombr nom...</td>\n",
       "      <td>1</td>\n",
       "      <td>spam</td>\n",
       "      <td>[1.0, 0.0, 0.0, 1.0, 0.0, 0.0, 0.0, 1.0, 1.0, ...</td>\n",
       "      <td>[14.0, 0.0, 0.0, 207.0, 0.0, 0.0, 0.0, 14.0, 1...</td>\n",
       "    </tr>\n",
       "    <tr>\n",
       "      <th>3708</th>\n",
       "      <td>emailaddr tue oct nombr nombr nombr nombr nomb...</td>\n",
       "      <td>0</td>\n",
       "      <td>easy_ham</td>\n",
       "      <td>[1.0, 0.0, 0.0, 1.0, 1.0, 1.0, 1.0, 1.0, 1.0, ...</td>\n",
       "      <td>[4.0, 0.0, 0.0, 64.0, 1.0, 1.0, 1.0, 3.0, 3.0,...</td>\n",
       "    </tr>\n",
       "    <tr>\n",
       "      <th>4189</th>\n",
       "      <td>receiv karl nombr nombr basec net nombr nombr ...</td>\n",
       "      <td>1</td>\n",
       "      <td>spam</td>\n",
       "      <td>[1.0, 0.0, 0.0, 1.0, 0.0, 0.0, 0.0, 1.0, 0.0, ...</td>\n",
       "      <td>[2.0, 0.0, 0.0, 53.0, 0.0, 0.0, 0.0, 3.0, 0.0,...</td>\n",
       "    </tr>\n",
       "    <tr>\n",
       "      <th>1366</th>\n",
       "      <td>emailaddr mon jun nombr nombr nombr nombr nomb...</td>\n",
       "      <td>1</td>\n",
       "      <td>spam</td>\n",
       "      <td>[1.0, 1.0, 0.0, 1.0, 1.0, 1.0, 0.0, 1.0, 0.0, ...</td>\n",
       "      <td>[3.0, 1.0, 0.0, 68.0, 1.0, 1.0, 0.0, 3.0, 0.0,...</td>\n",
       "    </tr>\n",
       "    <tr>\n",
       "      <th>2892</th>\n",
       "      <td>emailaddr mon sep nombr nombr nombr nombr nomb...</td>\n",
       "      <td>0</td>\n",
       "      <td>easy_ham</td>\n",
       "      <td>[1.0, 1.0, 1.0, 1.0, 1.0, 1.0, 1.0, 1.0, 1.0, ...</td>\n",
       "      <td>[8.0, 3.0, 12.0, 127.0, 1.0, 1.0, 1.0, 6.0, 2....</td>\n",
       "    </tr>\n",
       "    <tr>\n",
       "      <th>3481</th>\n",
       "      <td>emailaddr fri aug nombr nombr nombr nombr nomb...</td>\n",
       "      <td>1</td>\n",
       "      <td>spam</td>\n",
       "      <td>[1.0, 0.0, 0.0, 1.0, 1.0, 1.0, 1.0, 1.0, 0.0, ...</td>\n",
       "      <td>[5.0, 0.0, 0.0, 48.0, 1.0, 1.0, 1.0, 3.0, 0.0,...</td>\n",
       "    </tr>\n",
       "    <tr>\n",
       "      <th>3426</th>\n",
       "      <td>emailaddr mon jun nombr nombr nombr nombr nomb...</td>\n",
       "      <td>1</td>\n",
       "      <td>spam</td>\n",
       "      <td>[1.0, 1.0, 0.0, 1.0, 1.0, 1.0, 0.0, 1.0, 0.0, ...</td>\n",
       "      <td>[4.0, 1.0, 0.0, 57.0, 1.0, 1.0, 0.0, 2.0, 0.0,...</td>\n",
       "    </tr>\n",
       "    <tr>\n",
       "      <th>3100</th>\n",
       "      <td>emailaddr sat oct nombr nombr nombr nombr nomb...</td>\n",
       "      <td>0</td>\n",
       "      <td>easy_ham</td>\n",
       "      <td>[1.0, 0.0, 0.0, 1.0, 1.0, 1.0, 1.0, 1.0, 1.0, ...</td>\n",
       "      <td>[4.0, 0.0, 0.0, 64.0, 1.0, 1.0, 1.0, 3.0, 3.0,...</td>\n",
       "    </tr>\n",
       "    <tr>\n",
       "      <th>1026</th>\n",
       "      <td>emailaddr mon sep nombr nombr nombr nombr nomb...</td>\n",
       "      <td>0</td>\n",
       "      <td>easy_ham</td>\n",
       "      <td>[1.0, 1.0, 1.0, 1.0, 1.0, 1.0, 1.0, 1.0, 1.0, ...</td>\n",
       "      <td>[10.0, 4.0, 8.0, 109.0, 1.0, 1.0, 2.0, 6.0, 3....</td>\n",
       "    </tr>\n",
       "    <tr>\n",
       "      <th>666</th>\n",
       "      <td>emailaddr tue jul nombr nombr nombr nombr nomb...</td>\n",
       "      <td>1</td>\n",
       "      <td>spam</td>\n",
       "      <td>[1.0, 0.0, 0.0, 1.0, 1.0, 1.0, 1.0, 1.0, 1.0, ...</td>\n",
       "      <td>[9.0, 0.0, 0.0, 87.0, 3.0, 1.0, 2.0, 6.0, 4.0,...</td>\n",
       "    </tr>\n",
       "    <tr>\n",
       "      <th>709</th>\n",
       "      <td>receiv hq pro ns net localhost nombr nombr nom...</td>\n",
       "      <td>1</td>\n",
       "      <td>spam</td>\n",
       "      <td>[1.0, 1.0, 0.0, 1.0, 0.0, 0.0, 0.0, 1.0, 1.0, ...</td>\n",
       "      <td>[15.0, 2.0, 0.0, 126.0, 0.0, 0.0, 0.0, 8.0, 1....</td>\n",
       "    </tr>\n",
       "    <tr>\n",
       "      <th>319</th>\n",
       "      <td>emailaddr mon jun nombr nombr nombr nombr nomb...</td>\n",
       "      <td>1</td>\n",
       "      <td>spam</td>\n",
       "      <td>[1.0, 1.0, 0.0, 1.0, 1.0, 1.0, 0.0, 1.0, 0.0, ...</td>\n",
       "      <td>[5.0, 1.0, 0.0, 82.0, 2.0, 1.0, 0.0, 3.0, 0.0,...</td>\n",
       "    </tr>\n",
       "    <tr>\n",
       "      <th>348</th>\n",
       "      <td>emailaddr mon jun nombr nombr nombr nombr nomb...</td>\n",
       "      <td>1</td>\n",
       "      <td>spam</td>\n",
       "      <td>[1.0, 1.0, 0.0, 1.0, 1.0, 1.0, 0.0, 1.0, 0.0, ...</td>\n",
       "      <td>[3.0, 1.0, 0.0, 88.0, 1.0, 1.0, 0.0, 4.0, 0.0,...</td>\n",
       "    </tr>\n",
       "    <tr>\n",
       "      <th>777</th>\n",
       "      <td>emailaddr tue oct nombr nombr nombr nombr nomb...</td>\n",
       "      <td>0</td>\n",
       "      <td>easy_ham</td>\n",
       "      <td>[1.0, 0.0, 0.0, 1.0, 1.0, 1.0, 1.0, 1.0, 1.0, ...</td>\n",
       "      <td>[9.0, 0.0, 0.0, 128.0, 1.0, 2.0, 2.0, 8.0, 7.0...</td>\n",
       "    </tr>\n",
       "    <tr>\n",
       "      <th>3814</th>\n",
       "      <td>emailaddr thu sep nombr nombr nombr nombr nomb...</td>\n",
       "      <td>0</td>\n",
       "      <td>easy_ham</td>\n",
       "      <td>[1.0, 0.0, 1.0, 1.0, 1.0, 1.0, 1.0, 1.0, 1.0, ...</td>\n",
       "      <td>[4.0, 0.0, 5.0, 58.0, 1.0, 1.0, 1.0, 3.0, 3.0,...</td>\n",
       "    </tr>\n",
       "    <tr>\n",
       "      <th>1437</th>\n",
       "      <td>emailaddr tue sep nombr nombr nombr nombr nomb...</td>\n",
       "      <td>0</td>\n",
       "      <td>easy_ham</td>\n",
       "      <td>[1.0, 1.0, 1.0, 1.0, 1.0, 1.0, 1.0, 1.0, 1.0, ...</td>\n",
       "      <td>[8.0, 3.0, 11.0, 118.0, 1.0, 1.0, 2.0, 8.0, 4....</td>\n",
       "    </tr>\n",
       "  </tbody>\n",
       "</table>\n",
       "</div>"
      ],
      "text/plain": [
       "                                                 e-mail  label     class  \\\n",
       "3072  emailaddr mon aug nombr nombr nombr nombr nomb...      0  easy_ham   \n",
       "4101  emailaddr tue sep nombr nombr nombr nombr nomb...      0  easy_ham   \n",
       "2253  emailaddr sun sep nombr nombr nombr nombr nomb...      0  easy_ham   \n",
       "3636  emailaddr mon aug nombr nombr nombr nombr nomb...      0  easy_ham   \n",
       "1694  receiv hq pro ns net localhost nombr nombr nom...      1      spam   \n",
       "3708  emailaddr tue oct nombr nombr nombr nombr nomb...      0  easy_ham   \n",
       "4189  receiv karl nombr nombr basec net nombr nombr ...      1      spam   \n",
       "1366  emailaddr mon jun nombr nombr nombr nombr nomb...      1      spam   \n",
       "2892  emailaddr mon sep nombr nombr nombr nombr nomb...      0  easy_ham   \n",
       "3481  emailaddr fri aug nombr nombr nombr nombr nomb...      1      spam   \n",
       "3426  emailaddr mon jun nombr nombr nombr nombr nomb...      1      spam   \n",
       "3100  emailaddr sat oct nombr nombr nombr nombr nomb...      0  easy_ham   \n",
       "1026  emailaddr mon sep nombr nombr nombr nombr nomb...      0  easy_ham   \n",
       "666   emailaddr tue jul nombr nombr nombr nombr nomb...      1      spam   \n",
       "709   receiv hq pro ns net localhost nombr nombr nom...      1      spam   \n",
       "319   emailaddr mon jun nombr nombr nombr nombr nomb...      1      spam   \n",
       "348   emailaddr mon jun nombr nombr nombr nombr nomb...      1      spam   \n",
       "777   emailaddr tue oct nombr nombr nombr nombr nomb...      0  easy_ham   \n",
       "3814  emailaddr thu sep nombr nombr nombr nombr nomb...      0  easy_ham   \n",
       "1437  emailaddr tue sep nombr nombr nombr nombr nomb...      0  easy_ham   \n",
       "\n",
       "                                                 embed1  \\\n",
       "3072  [1.0, 1.0, 0.0, 1.0, 1.0, 1.0, 1.0, 1.0, 1.0, ...   \n",
       "4101  [1.0, 1.0, 1.0, 1.0, 1.0, 1.0, 1.0, 1.0, 1.0, ...   \n",
       "2253  [1.0, 0.0, 1.0, 1.0, 1.0, 1.0, 1.0, 1.0, 1.0, ...   \n",
       "3636  [1.0, 1.0, 0.0, 1.0, 1.0, 1.0, 1.0, 1.0, 1.0, ...   \n",
       "1694  [1.0, 0.0, 0.0, 1.0, 0.0, 0.0, 0.0, 1.0, 1.0, ...   \n",
       "3708  [1.0, 0.0, 0.0, 1.0, 1.0, 1.0, 1.0, 1.0, 1.0, ...   \n",
       "4189  [1.0, 0.0, 0.0, 1.0, 0.0, 0.0, 0.0, 1.0, 0.0, ...   \n",
       "1366  [1.0, 1.0, 0.0, 1.0, 1.0, 1.0, 0.0, 1.0, 0.0, ...   \n",
       "2892  [1.0, 1.0, 1.0, 1.0, 1.0, 1.0, 1.0, 1.0, 1.0, ...   \n",
       "3481  [1.0, 0.0, 0.0, 1.0, 1.0, 1.0, 1.0, 1.0, 0.0, ...   \n",
       "3426  [1.0, 1.0, 0.0, 1.0, 1.0, 1.0, 0.0, 1.0, 0.0, ...   \n",
       "3100  [1.0, 0.0, 0.0, 1.0, 1.0, 1.0, 1.0, 1.0, 1.0, ...   \n",
       "1026  [1.0, 1.0, 1.0, 1.0, 1.0, 1.0, 1.0, 1.0, 1.0, ...   \n",
       "666   [1.0, 0.0, 0.0, 1.0, 1.0, 1.0, 1.0, 1.0, 1.0, ...   \n",
       "709   [1.0, 1.0, 0.0, 1.0, 0.0, 0.0, 0.0, 1.0, 1.0, ...   \n",
       "319   [1.0, 1.0, 0.0, 1.0, 1.0, 1.0, 0.0, 1.0, 0.0, ...   \n",
       "348   [1.0, 1.0, 0.0, 1.0, 1.0, 1.0, 0.0, 1.0, 0.0, ...   \n",
       "777   [1.0, 0.0, 0.0, 1.0, 1.0, 1.0, 1.0, 1.0, 1.0, ...   \n",
       "3814  [1.0, 0.0, 1.0, 1.0, 1.0, 1.0, 1.0, 1.0, 1.0, ...   \n",
       "1437  [1.0, 1.0, 1.0, 1.0, 1.0, 1.0, 1.0, 1.0, 1.0, ...   \n",
       "\n",
       "                                                 embed2  \n",
       "3072  [7.0, 10.0, 0.0, 128.0, 1.0, 1.0, 1.0, 7.0, 3....  \n",
       "4101  [4.0, 1.0, 5.0, 85.0, 1.0, 1.0, 1.0, 4.0, 3.0,...  \n",
       "2253  [7.0, 0.0, 9.0, 141.0, 1.0, 1.0, 2.0, 7.0, 3.0...  \n",
       "3636  [8.0, 8.0, 0.0, 97.0, 1.0, 1.0, 2.0, 6.0, 4.0,...  \n",
       "1694  [14.0, 0.0, 0.0, 207.0, 0.0, 0.0, 0.0, 14.0, 1...  \n",
       "3708  [4.0, 0.0, 0.0, 64.0, 1.0, 1.0, 1.0, 3.0, 3.0,...  \n",
       "4189  [2.0, 0.0, 0.0, 53.0, 0.0, 0.0, 0.0, 3.0, 0.0,...  \n",
       "1366  [3.0, 1.0, 0.0, 68.0, 1.0, 1.0, 0.0, 3.0, 0.0,...  \n",
       "2892  [8.0, 3.0, 12.0, 127.0, 1.0, 1.0, 1.0, 6.0, 2....  \n",
       "3481  [5.0, 0.0, 0.0, 48.0, 1.0, 1.0, 1.0, 3.0, 0.0,...  \n",
       "3426  [4.0, 1.0, 0.0, 57.0, 1.0, 1.0, 0.0, 2.0, 0.0,...  \n",
       "3100  [4.0, 0.0, 0.0, 64.0, 1.0, 1.0, 1.0, 3.0, 3.0,...  \n",
       "1026  [10.0, 4.0, 8.0, 109.0, 1.0, 1.0, 2.0, 6.0, 3....  \n",
       "666   [9.0, 0.0, 0.0, 87.0, 3.0, 1.0, 2.0, 6.0, 4.0,...  \n",
       "709   [15.0, 2.0, 0.0, 126.0, 0.0, 0.0, 0.0, 8.0, 1....  \n",
       "319   [5.0, 1.0, 0.0, 82.0, 2.0, 1.0, 0.0, 3.0, 0.0,...  \n",
       "348   [3.0, 1.0, 0.0, 88.0, 1.0, 1.0, 0.0, 4.0, 0.0,...  \n",
       "777   [9.0, 0.0, 0.0, 128.0, 1.0, 2.0, 2.0, 8.0, 7.0...  \n",
       "3814  [4.0, 0.0, 5.0, 58.0, 1.0, 1.0, 1.0, 3.0, 3.0,...  \n",
       "1437  [8.0, 3.0, 11.0, 118.0, 1.0, 1.0, 2.0, 8.0, 4....  "
      ]
     },
     "execution_count": 21,
     "metadata": {},
     "output_type": "execute_result"
    }
   ],
   "source": [
    "result[\"embed2\"]=result[\"e-mail\"].apply(lambda x : gen_embed2(tokens,x))\n",
    "result.sample(20)\n"
   ]
  },
  {
   "cell_type": "markdown",
   "id": "3e3d69d5",
   "metadata": {},
   "source": [
    "**Sauvgarde du vocabulaire dans un fichier txt pour une réutilisation directe**"
   ]
  },
  {
   "cell_type": "code",
   "execution_count": 22,
   "id": "4ac40e82",
   "metadata": {},
   "outputs": [],
   "source": [
    "with open(r'vocab.txt', 'w') as fp:\n",
    "    fp.write(' '.join(tokens))"
   ]
  },
  {
   "cell_type": "code",
   "execution_count": 23,
   "id": "b928ae43",
   "metadata": {},
   "outputs": [],
   "source": [
    "#code to read the file \n",
    "my_file = open(\"vocab.txt\", \"r\")\n",
    "  \n",
    "# reading the file\n",
    "data = my_file.read()\n",
    "  \n",
    "\n",
    "tokens = data.split(\" \")\n",
    "my_file.close()"
   ]
  },
  {
   "cell_type": "markdown",
   "id": "09a9a642",
   "metadata": {},
   "source": [
    "**Vu le grand temps pour l'extraction des caractéristique nous avons aussi opter pour la sauvgarde du dataframe qui contient toute les donées pour une réutilisation directe**"
   ]
  },
  {
   "cell_type": "code",
   "execution_count": 24,
   "id": "7481df3e",
   "metadata": {},
   "outputs": [],
   "source": [
    "file = open('dataset', 'wb')\n",
    "pickle.dump(result, file)\n",
    "file.close()"
   ]
  },
  {
   "cell_type": "code",
   "execution_count": 25,
   "id": "61bcdefc",
   "metadata": {},
   "outputs": [
    {
     "data": {
      "text/html": [
       "<div>\n",
       "<style scoped>\n",
       "    .dataframe tbody tr th:only-of-type {\n",
       "        vertical-align: middle;\n",
       "    }\n",
       "\n",
       "    .dataframe tbody tr th {\n",
       "        vertical-align: top;\n",
       "    }\n",
       "\n",
       "    .dataframe thead th {\n",
       "        text-align: right;\n",
       "    }\n",
       "</style>\n",
       "<table border=\"1\" class=\"dataframe\">\n",
       "  <thead>\n",
       "    <tr style=\"text-align: right;\">\n",
       "      <th></th>\n",
       "      <th>e-mail</th>\n",
       "      <th>label</th>\n",
       "      <th>class</th>\n",
       "      <th>embed1</th>\n",
       "      <th>embed2</th>\n",
       "    </tr>\n",
       "  </thead>\n",
       "  <tbody>\n",
       "    <tr>\n",
       "      <th>2338</th>\n",
       "      <td>emailaddr mon jun nombr nombr nombr nombr nomb...</td>\n",
       "      <td>1</td>\n",
       "      <td>spam</td>\n",
       "      <td>[1.0, 1.0, 0.0, 1.0, 1.0, 1.0, 0.0, 1.0, 0.0, ...</td>\n",
       "      <td>[5.0, 1.0, 0.0, 68.0, 1.0, 1.0, 0.0, 3.0, 0.0,...</td>\n",
       "    </tr>\n",
       "    <tr>\n",
       "      <th>2621</th>\n",
       "      <td>emailaddr wed sep nombr nombr nombr nombr nomb...</td>\n",
       "      <td>0</td>\n",
       "      <td>easy_ham</td>\n",
       "      <td>[1.0, 0.0, 1.0, 1.0, 1.0, 1.0, 1.0, 1.0, 1.0, ...</td>\n",
       "      <td>[8.0, 0.0, 12.0, 150.0, 1.0, 1.0, 1.0, 7.0, 3....</td>\n",
       "    </tr>\n",
       "    <tr>\n",
       "      <th>1100</th>\n",
       "      <td>emailaddr thu oct nombr nombr nombr nombr nomb...</td>\n",
       "      <td>0</td>\n",
       "      <td>easy_ham</td>\n",
       "      <td>[1.0, 0.0, 0.0, 1.0, 1.0, 1.0, 1.0, 1.0, 1.0, ...</td>\n",
       "      <td>[12.0, 0.0, 0.0, 115.0, 2.0, 1.0, 3.0, 7.0, 3....</td>\n",
       "    </tr>\n",
       "    <tr>\n",
       "      <th>1459</th>\n",
       "      <td>emailaddr mon sep nombr nombr nombr nombr nomb...</td>\n",
       "      <td>0</td>\n",
       "      <td>easy_ham</td>\n",
       "      <td>[1.0, 1.0, 1.0, 1.0, 1.0, 1.0, 1.0, 1.0, 1.0, ...</td>\n",
       "      <td>[8.0, 3.0, 3.0, 159.0, 1.0, 2.0, 1.0, 6.0, 4.0...</td>\n",
       "    </tr>\n",
       "    <tr>\n",
       "      <th>3117</th>\n",
       "      <td>emailaddr fri sep nombr nombr nombr nombr nomb...</td>\n",
       "      <td>0</td>\n",
       "      <td>easy_ham</td>\n",
       "      <td>[1.0, 0.0, 1.0, 1.0, 1.0, 1.0, 1.0, 1.0, 1.0, ...</td>\n",
       "      <td>[10.0, 0.0, 12.0, 138.0, 1.0, 1.0, 1.0, 7.0, 2...</td>\n",
       "    </tr>\n",
       "    <tr>\n",
       "      <th>453</th>\n",
       "      <td>emailaddr tue oct nombr nombr nombr nombr nomb...</td>\n",
       "      <td>0</td>\n",
       "      <td>easy_ham</td>\n",
       "      <td>[1.0, 0.0, 0.0, 1.0, 1.0, 1.0, 1.0, 1.0, 1.0, ...</td>\n",
       "      <td>[4.0, 0.0, 0.0, 65.0, 1.0, 1.0, 1.0, 3.0, 3.0,...</td>\n",
       "    </tr>\n",
       "    <tr>\n",
       "      <th>3219</th>\n",
       "      <td>emailaddr mon jun nombr nombr nombr nombr nomb...</td>\n",
       "      <td>1</td>\n",
       "      <td>spam</td>\n",
       "      <td>[1.0, 1.0, 0.0, 1.0, 1.0, 1.0, 0.0, 1.0, 0.0, ...</td>\n",
       "      <td>[6.0, 1.0, 0.0, 128.0, 1.0, 1.0, 0.0, 7.0, 0.0...</td>\n",
       "    </tr>\n",
       "    <tr>\n",
       "      <th>3639</th>\n",
       "      <td>emailaddr mon sep nombr nombr nombr nombr nomb...</td>\n",
       "      <td>0</td>\n",
       "      <td>easy_ham</td>\n",
       "      <td>[1.0, 1.0, 1.0, 1.0, 1.0, 1.0, 1.0, 1.0, 1.0, ...</td>\n",
       "      <td>[8.0, 8.0, 8.0, 102.0, 1.0, 1.0, 2.0, 6.0, 3.0...</td>\n",
       "    </tr>\n",
       "    <tr>\n",
       "      <th>3564</th>\n",
       "      <td>emailaddr thu sep nombr nombr nombr nombr nomb...</td>\n",
       "      <td>0</td>\n",
       "      <td>easy_ham</td>\n",
       "      <td>[1.0, 0.0, 1.0, 1.0, 1.0, 1.0, 1.0, 1.0, 1.0, ...</td>\n",
       "      <td>[4.0, 0.0, 5.0, 63.0, 1.0, 1.0, 1.0, 3.0, 3.0,...</td>\n",
       "    </tr>\n",
       "    <tr>\n",
       "      <th>1648</th>\n",
       "      <td>emailaddr fri jul nombr nombr nombr nombr nomb...</td>\n",
       "      <td>1</td>\n",
       "      <td>spam</td>\n",
       "      <td>[1.0, 0.0, 0.0, 1.0, 1.0, 1.0, 1.0, 1.0, 1.0, ...</td>\n",
       "      <td>[6.0, 0.0, 0.0, 99.0, 1.0, 1.0, 1.0, 5.0, 3.0,...</td>\n",
       "    </tr>\n",
       "  </tbody>\n",
       "</table>\n",
       "</div>"
      ],
      "text/plain": [
       "                                                 e-mail  label     class  \\\n",
       "2338  emailaddr mon jun nombr nombr nombr nombr nomb...      1      spam   \n",
       "2621  emailaddr wed sep nombr nombr nombr nombr nomb...      0  easy_ham   \n",
       "1100  emailaddr thu oct nombr nombr nombr nombr nomb...      0  easy_ham   \n",
       "1459  emailaddr mon sep nombr nombr nombr nombr nomb...      0  easy_ham   \n",
       "3117  emailaddr fri sep nombr nombr nombr nombr nomb...      0  easy_ham   \n",
       "453   emailaddr tue oct nombr nombr nombr nombr nomb...      0  easy_ham   \n",
       "3219  emailaddr mon jun nombr nombr nombr nombr nomb...      1      spam   \n",
       "3639  emailaddr mon sep nombr nombr nombr nombr nomb...      0  easy_ham   \n",
       "3564  emailaddr thu sep nombr nombr nombr nombr nomb...      0  easy_ham   \n",
       "1648  emailaddr fri jul nombr nombr nombr nombr nomb...      1      spam   \n",
       "\n",
       "                                                 embed1  \\\n",
       "2338  [1.0, 1.0, 0.0, 1.0, 1.0, 1.0, 0.0, 1.0, 0.0, ...   \n",
       "2621  [1.0, 0.0, 1.0, 1.0, 1.0, 1.0, 1.0, 1.0, 1.0, ...   \n",
       "1100  [1.0, 0.0, 0.0, 1.0, 1.0, 1.0, 1.0, 1.0, 1.0, ...   \n",
       "1459  [1.0, 1.0, 1.0, 1.0, 1.0, 1.0, 1.0, 1.0, 1.0, ...   \n",
       "3117  [1.0, 0.0, 1.0, 1.0, 1.0, 1.0, 1.0, 1.0, 1.0, ...   \n",
       "453   [1.0, 0.0, 0.0, 1.0, 1.0, 1.0, 1.0, 1.0, 1.0, ...   \n",
       "3219  [1.0, 1.0, 0.0, 1.0, 1.0, 1.0, 0.0, 1.0, 0.0, ...   \n",
       "3639  [1.0, 1.0, 1.0, 1.0, 1.0, 1.0, 1.0, 1.0, 1.0, ...   \n",
       "3564  [1.0, 0.0, 1.0, 1.0, 1.0, 1.0, 1.0, 1.0, 1.0, ...   \n",
       "1648  [1.0, 0.0, 0.0, 1.0, 1.0, 1.0, 1.0, 1.0, 1.0, ...   \n",
       "\n",
       "                                                 embed2  \n",
       "2338  [5.0, 1.0, 0.0, 68.0, 1.0, 1.0, 0.0, 3.0, 0.0,...  \n",
       "2621  [8.0, 0.0, 12.0, 150.0, 1.0, 1.0, 1.0, 7.0, 3....  \n",
       "1100  [12.0, 0.0, 0.0, 115.0, 2.0, 1.0, 3.0, 7.0, 3....  \n",
       "1459  [8.0, 3.0, 3.0, 159.0, 1.0, 2.0, 1.0, 6.0, 4.0...  \n",
       "3117  [10.0, 0.0, 12.0, 138.0, 1.0, 1.0, 1.0, 7.0, 2...  \n",
       "453   [4.0, 0.0, 0.0, 65.0, 1.0, 1.0, 1.0, 3.0, 3.0,...  \n",
       "3219  [6.0, 1.0, 0.0, 128.0, 1.0, 1.0, 0.0, 7.0, 0.0...  \n",
       "3639  [8.0, 8.0, 8.0, 102.0, 1.0, 1.0, 2.0, 6.0, 3.0...  \n",
       "3564  [4.0, 0.0, 5.0, 63.0, 1.0, 1.0, 1.0, 3.0, 3.0,...  \n",
       "1648  [6.0, 0.0, 0.0, 99.0, 1.0, 1.0, 1.0, 5.0, 3.0,...  "
      ]
     },
     "execution_count": 25,
     "metadata": {},
     "output_type": "execute_result"
    }
   ],
   "source": [
    "file = open('dataset', 'rb')\n",
    "result = pickle.load(file)\n",
    "file.close()\n",
    "result.sample(10)"
   ]
  },
  {
   "cell_type": "code",
   "execution_count": 148,
   "id": "c2b403e4",
   "metadata": {},
   "outputs": [],
   "source": [
    "from sklearn.model_selection import train_test_split\n",
    "from sklearn.tree import DecisionTreeClassifier\n",
    "from sklearn.neighbors import KNeighborsClassifier\n",
    "from sklearn import metrics\n",
    "from sklearn.preprocessing import StandardScaler\n",
    "from sklearn import svm"
   ]
  },
  {
   "cell_type": "code",
   "execution_count": 90,
   "id": "944379da",
   "metadata": {},
   "outputs": [
    {
     "name": "stdout",
     "output_type": "stream",
     "text": [
      "(4198, 1, 10783)\n"
     ]
    }
   ],
   "source": [
    "feature_cols = ['embed1']\n",
    "X = result.loc[:, feature_cols].values.tolist()\n",
    "print(np.array(X).shape)\n",
    "X=np.squeeze(X,1)\n",
    "y=result[\"label\"].to_numpy()\n",
    "Xt1, Xtt1, Yt1, Ytt1 = train_test_split(\n",
    "      X, y, test_size = 0.20,random_state=42)\n",
    "\n"
   ]
  },
  {
   "cell_type": "code",
   "execution_count": 91,
   "id": "a4113f8e",
   "metadata": {},
   "outputs": [
    {
     "name": "stdout",
     "output_type": "stream",
     "text": [
      "(4198, 1, 10783)\n"
     ]
    }
   ],
   "source": [
    "feature_cols = ['embed2']\n",
    "X = result.loc[:, feature_cols].values.tolist()\n",
    "print(np.array(X).shape)\n",
    "X=np.squeeze(X,1)\n",
    "y=result[\"label\"].to_numpy()\n",
    "# Perform scaling on X as the data in the second feauters is no longer only 1 or 0\n",
    "scaler = StandardScaler()\n",
    "X_scaled = scaler.fit_transform(X)\n",
    "\n",
    "# Split the data into training and testing sets\n",
    "Xt2, Xtt2, Yt2, Ytt2 = train_test_split(X_scaled, y, test_size=0.20, random_state=42)"
   ]
  },
  {
   "cell_type": "markdown",
   "id": "b9096ea4",
   "metadata": {},
   "source": [
    "### Entrainemment des modèles Sklearn "
   ]
  },
  {
   "cell_type": "markdown",
   "id": "222a9945",
   "metadata": {},
   "source": [
    "pour chaque modele nous procedons a l'evaluation deux fois une fois pour chaque caractéristique "
   ]
  },
  {
   "cell_type": "code",
   "execution_count": 94,
   "id": "b5d85b60",
   "metadata": {},
   "outputs": [],
   "source": [
    "from sklearn.ensemble import RandomForestClassifier\n",
    "from sklearn.neighbors import KNeighborsClassifier\n",
    "from sklearn.naive_bayes import MultinomialNB\n",
    "from sklearn.svm import SVC\n",
    "from sklearn.linear_model import LogisticRegression\n",
    "from sklearn.tree import DecisionTreeClassifier\n",
    "from sklearn.metrics import accuracy_score, classification_report\n",
    "from sklearn.model_selection import train_test_split\n",
    "from sklearn.preprocessing import StandardScaler\n"
   ]
  },
  {
   "cell_type": "markdown",
   "id": "be8dcca4",
   "metadata": {},
   "source": [
    "### Random forest"
   ]
  },
  {
   "cell_type": "code",
   "execution_count": 95,
   "id": "2595e480",
   "metadata": {},
   "outputs": [],
   "source": [
    "# Train and evaluate a Random Forest classifier1\n",
    "rf = RandomForestClassifier(n_estimators=100, random_state=42)\n",
    "rf.fit(Xt1, Yt1)\n",
    "y_pred_rf1 = rf.predict(Xtt1)\n",
    "probas_rf1=rf.predict_proba(Xtt1) \n",
    "acc_rf1 = accuracy_score(Ytt1, y_pred_rf1)\n",
    "report_rf1 = classification_report(Ytt1, y_pred_rf1)"
   ]
  },
  {
   "cell_type": "code",
   "execution_count": 96,
   "id": "dbf04010",
   "metadata": {},
   "outputs": [],
   "source": [
    "# Train and evaluate a Random Forest classifier2\n",
    "rf = RandomForestClassifier(n_estimators=100, random_state=42)\n",
    "rf.fit(Xt2, Yt2)\n",
    "y_pred_rf2 = rf.predict(Xtt2)\n",
    "probas_rf2=rf.predict_proba(Xtt2) \n",
    "acc_rf2 = accuracy_score(Ytt2, y_pred_rf2)\n",
    "report_rf2 = classification_report(Ytt2, y_pred_rf2)"
   ]
  },
  {
   "cell_type": "code",
   "execution_count": 97,
   "id": "b17285f4",
   "metadata": {},
   "outputs": [
    {
     "name": "stdout",
     "output_type": "stream",
     "text": [
      "Random Forest accuracy: 0.994\n",
      "              precision    recall  f1-score   support\n",
      "\n",
      "           0       1.00      0.99      1.00       575\n",
      "           1       0.99      1.00      0.99       265\n",
      "\n",
      "    accuracy                           0.99       840\n",
      "   macro avg       0.99      0.99      0.99       840\n",
      "weighted avg       0.99      0.99      0.99       840\n",
      "\n"
     ]
    }
   ],
   "source": [
    "print(f\"Random Forest accuracy: {acc_rf1:.3f}\")\n",
    "print(report_rf1)"
   ]
  },
  {
   "cell_type": "code",
   "execution_count": 98,
   "id": "1bc9c5a3",
   "metadata": {},
   "outputs": [
    {
     "name": "stdout",
     "output_type": "stream",
     "text": [
      "Random Forest accuracy: 0.996\n",
      "              precision    recall  f1-score   support\n",
      "\n",
      "           0       1.00      1.00      1.00       575\n",
      "           1       0.99      1.00      0.99       265\n",
      "\n",
      "    accuracy                           1.00       840\n",
      "   macro avg       1.00      1.00      1.00       840\n",
      "weighted avg       1.00      1.00      1.00       840\n",
      "\n"
     ]
    }
   ],
   "source": [
    "print(f\"Random Forest accuracy: {acc_rf2:.3f}\")\n",
    "print(report_rf2)"
   ]
  },
  {
   "cell_type": "markdown",
   "id": "81eb41e9",
   "metadata": {},
   "source": [
    "### KNN"
   ]
  },
  {
   "cell_type": "markdown",
   "id": "c7860b88",
   "metadata": {},
   "source": [
    "**Definition du k a l'aide de Grid search**"
   ]
  },
  {
   "cell_type": "code",
   "execution_count": 99,
   "id": "ea2edee3",
   "metadata": {},
   "outputs": [
    {
     "name": "stdout",
     "output_type": "stream",
     "text": [
      "Best k value: 2\n",
      "Accuracy with best k: 0.981\n"
     ]
    }
   ],
   "source": [
    "from sklearn.model_selection import GridSearchCV\n",
    "\n",
    "# Define the range of k values to search\n",
    "param_grid = {'n_neighbors': range(2, 21)}\n",
    "\n",
    "# Create the KNN classifier\n",
    "knn = KNeighborsClassifier()\n",
    "\n",
    "# Perform cross-validation grid search\n",
    "grid_search = GridSearchCV(knn, param_grid, cv=5)\n",
    "grid_search.fit(Xt1, Yt1)\n",
    "\n",
    "# Get the best k value and the corresponding accuracy\n",
    "best_k = grid_search.best_params_['n_neighbors']\n",
    "best_acc_knn = grid_search.best_score_\n",
    "\n",
    "# Print the results\n",
    "print(f\"Best k value: {best_k}\")\n",
    "print(f\"Accuracy with best k: {best_acc_knn:.3f}\")"
   ]
  },
  {
   "cell_type": "code",
   "execution_count": 100,
   "id": "970b86cd",
   "metadata": {},
   "outputs": [],
   "source": [
    "# Train and evaluate KNN classifiers1\n",
    "knn1 = KNeighborsClassifier(n_neighbors=2)\n",
    "knn1.fit(Xt1, Yt1)\n",
    "y_pred_knn1 = knn1.predict(Xtt1)\n",
    "probas_knn1=knn1.predict_proba(Xtt1) \n",
    "acc_knn1 = accuracy_score(Ytt1, y_pred_knn1)\n",
    "report_knn1 = classification_report(Ytt1, y_pred_knn1)\n"
   ]
  },
  {
   "cell_type": "code",
   "execution_count": 101,
   "id": "d7b8d7b2",
   "metadata": {},
   "outputs": [],
   "source": [
    "# Train and evaluate KNN classifiers2\n",
    "knn2 = KNeighborsClassifier(n_neighbors=2)\n",
    "knn2.fit(Xt2, Yt2)\n",
    "y_pred_knn2 = knn2.predict(Xtt2)\n",
    "probas_knn2=knn2.predict_proba(Xtt2) \n",
    "acc_knn2 = accuracy_score(Ytt2, y_pred_knn2)\n",
    "report_knn2 = classification_report(Ytt2, y_pred_knn2)"
   ]
  },
  {
   "cell_type": "code",
   "execution_count": 102,
   "id": "e9d0340e",
   "metadata": {},
   "outputs": [
    {
     "name": "stdout",
     "output_type": "stream",
     "text": [
      "KNN accuracy: 0.990\n",
      "              precision    recall  f1-score   support\n",
      "\n",
      "           0       0.99      0.99      0.99       575\n",
      "           1       0.99      0.98      0.98       265\n",
      "\n",
      "    accuracy                           0.99       840\n",
      "   macro avg       0.99      0.99      0.99       840\n",
      "weighted avg       0.99      0.99      0.99       840\n",
      "\n"
     ]
    }
   ],
   "source": [
    "print(f\"KNN accuracy: {acc_knn1:.3f}\")\n",
    "print(report_knn1)"
   ]
  },
  {
   "cell_type": "code",
   "execution_count": 103,
   "id": "4521ed15",
   "metadata": {},
   "outputs": [
    {
     "name": "stdout",
     "output_type": "stream",
     "text": [
      "KNN accuracy: 0.932\n",
      "              precision    recall  f1-score   support\n",
      "\n",
      "           0       0.93      0.98      0.95       575\n",
      "           1       0.95      0.83      0.89       265\n",
      "\n",
      "    accuracy                           0.93       840\n",
      "   macro avg       0.94      0.90      0.92       840\n",
      "weighted avg       0.93      0.93      0.93       840\n",
      "\n"
     ]
    }
   ],
   "source": [
    "print(f\"KNN accuracy: {acc_knn2:.3f}\")\n",
    "print(report_knn2)"
   ]
  },
  {
   "cell_type": "markdown",
   "id": "2d876432",
   "metadata": {},
   "source": [
    "### Logistique Regression"
   ]
  },
  {
   "cell_type": "markdown",
   "id": "1f62557e",
   "metadata": {},
   "source": [
    "**Comparaison entre la regression one vs all et la regression avec softmax **"
   ]
  },
  {
   "cell_type": "code",
   "execution_count": 104,
   "id": "f7634791",
   "metadata": {},
   "outputs": [
    {
     "name": "stdout",
     "output_type": "stream",
     "text": [
      "Multinomial Logistic Regression:\n",
      "Accuracy: 0.998\n",
      "              precision    recall  f1-score   support\n",
      "\n",
      "           0       1.00      1.00      1.00       575\n",
      "           1       1.00      1.00      1.00       265\n",
      "\n",
      "    accuracy                           1.00       840\n",
      "   macro avg       1.00      1.00      1.00       840\n",
      "weighted avg       1.00      1.00      1.00       840\n",
      "\n",
      "One-vs-Rest (OvR) Logistic Regression:\n",
      "Accuracy: 0.998\n",
      "              precision    recall  f1-score   support\n",
      "\n",
      "           0       1.00      1.00      1.00       575\n",
      "           1       1.00      1.00      1.00       265\n",
      "\n",
      "    accuracy                           1.00       840\n",
      "   macro avg       1.00      1.00      1.00       840\n",
      "weighted avg       1.00      1.00      1.00       840\n",
      "\n"
     ]
    }
   ],
   "source": [
    "# Create and train the logistic regression model using the \"multinomial\" solver\n",
    "lr_multinomial = LogisticRegression(multi_class='multinomial', solver='lbfgs')\n",
    "lr_multinomial.fit(Xt1, Yt1)\n",
    "\n",
    "# Create and train the logistic regression model using the \"ovr\" (one-vs-rest) strategy\n",
    "lr_ovr = LogisticRegression(multi_class='ovr', solver='lbfgs')\n",
    "lr_ovr.fit(Xt1, Yt1)\n",
    "\n",
    "# Make predictions on the test set using the \"multinomial\" model\n",
    "y_pred_multinomial = lr_multinomial.predict(Xtt1)\n",
    "accuracy_multinomial = accuracy_score(Ytt1, y_pred_multinomial)\n",
    "report_multinomial = classification_report(Ytt1, y_pred_multinomial)\n",
    "\n",
    "# Make predictions on the test set using the \"ovr\" model\n",
    "y_pred_ovr = lr_ovr.predict(Xtt1)\n",
    "accuracy_ovr = accuracy_score(Ytt1, y_pred_ovr)\n",
    "report_ovr = classification_report(Ytt1, y_pred_ovr)\n",
    "\n",
    "# Print the classification reports for both models\n",
    "print(\"Multinomial Logistic Regression:\")\n",
    "print(f\"Accuracy: {accuracy_multinomial:.3f}\")\n",
    "print(report_multinomial)\n",
    "\n",
    "print(\"One-vs-Rest (OvR) Logistic Regression:\")\n",
    "print(f\"Accuracy: {accuracy_ovr:.3f}\")\n",
    "print(report_ovr)"
   ]
  },
  {
   "cell_type": "markdown",
   "id": "13308cf4",
   "metadata": {},
   "source": [
    "les résultats sont idantique donc dans les prochain test nous allons laisser le choix automatique de la methode a utiliser "
   ]
  },
  {
   "cell_type": "code",
   "execution_count": 105,
   "id": "23426e20",
   "metadata": {},
   "outputs": [],
   "source": [
    "# Train and evaluate Logistic Regression classifiers\n",
    "lr1 = LogisticRegression()\n",
    "lr1.fit(Xt1, Yt1)\n",
    "y_pred_lr1 = lr1.predict(Xtt1)\n",
    "probas_lr1=lr1.predict_proba(Xtt1) \n",
    "acc_lr1 = accuracy_score(Ytt1, y_pred_lr1)\n",
    "report_lr1 = classification_report(Ytt1, y_pred_lr1)\n"
   ]
  },
  {
   "cell_type": "code",
   "execution_count": 106,
   "id": "f2121428",
   "metadata": {},
   "outputs": [],
   "source": [
    "# Train and evaluate Logistic Regression classifiers\n",
    "lr2 = LogisticRegression()\n",
    "lr2.fit(Xt2, Yt2)\n",
    "y_pred_lr2 = lr2.predict(Xtt2)\n",
    "probas_lr2=lr2.predict_proba(Xtt2) \n",
    "acc_lr2 = accuracy_score(Ytt2, y_pred_lr2)\n",
    "report_lr2 = classification_report(Ytt2, y_pred_lr2)"
   ]
  },
  {
   "cell_type": "code",
   "execution_count": 107,
   "id": "2645925a",
   "metadata": {},
   "outputs": [
    {
     "name": "stdout",
     "output_type": "stream",
     "text": [
      "Logistic Regression accuracy: 0.998\n",
      "              precision    recall  f1-score   support\n",
      "\n",
      "           0       1.00      1.00      1.00       575\n",
      "           1       1.00      1.00      1.00       265\n",
      "\n",
      "    accuracy                           1.00       840\n",
      "   macro avg       1.00      1.00      1.00       840\n",
      "weighted avg       1.00      1.00      1.00       840\n",
      "\n"
     ]
    }
   ],
   "source": [
    "print(f\"Logistic Regression accuracy: {acc_lr1:.3f}\")\n",
    "print(report_lr1)"
   ]
  },
  {
   "cell_type": "code",
   "execution_count": 108,
   "id": "b2ec599e",
   "metadata": {},
   "outputs": [
    {
     "name": "stdout",
     "output_type": "stream",
     "text": [
      "Logistic Regression accuracy: 0.995\n",
      "              precision    recall  f1-score   support\n",
      "\n",
      "           0       1.00      0.99      1.00       575\n",
      "           1       0.99      1.00      0.99       265\n",
      "\n",
      "    accuracy                           1.00       840\n",
      "   macro avg       0.99      1.00      0.99       840\n",
      "weighted avg       1.00      1.00      1.00       840\n",
      "\n"
     ]
    }
   ],
   "source": [
    "print(f\"Logistic Regression accuracy: {acc_lr2:.3f}\")\n",
    "print(report_lr2)"
   ]
  },
  {
   "cell_type": "markdown",
   "id": "3bcd100b",
   "metadata": {},
   "source": [
    "###  SVM"
   ]
  },
  {
   "cell_type": "code",
   "execution_count": 111,
   "id": "8fecab64",
   "metadata": {},
   "outputs": [],
   "source": [
    "# Train and evaluate SVM classifiers with Gaussian kernel1\n",
    "svm1 = SVC(kernel='rbf')\n",
    "svm1.fit(Xt1, Yt1)\n",
    "y_pred_svm1 = svm1.predict(Xtt1)\n",
    "svm1p = SVC(kernel='rbf',probability=True)\n",
    "svm1p.fit(Xt1, Yt1)\n",
    "probas_svm1=svm1p.predict_proba(Xtt1) \n",
    "acc_svm1 = accuracy_score(Ytt1, y_pred_svm1)\n",
    "report_svm1 = classification_report(Ytt1, y_pred_svm1)\n",
    "\n"
   ]
  },
  {
   "cell_type": "code",
   "execution_count": 112,
   "id": "d800d45d",
   "metadata": {},
   "outputs": [],
   "source": [
    "# Train and evaluate SVM classifiers with Gaussian kernel2\n",
    "svm2 = SVC(kernel='rbf')\n",
    "svm2.fit(Xt2, Yt2)\n",
    "y_pred_svm2 = svm2.predict(Xtt2)\n",
    "svm2p = SVC(kernel='rbf',probability=True)\n",
    "svm2p.fit(Xt2, Yt2)\n",
    "probas_svm2=svm2p.predict_proba(Xtt2) \n",
    "acc_svm2 = accuracy_score(Ytt2, y_pred_svm2)\n",
    "report_svm2 = classification_report(Ytt2, y_pred_svm2)"
   ]
  },
  {
   "cell_type": "code",
   "execution_count": 113,
   "id": "ac8ed1b1",
   "metadata": {},
   "outputs": [
    {
     "name": "stdout",
     "output_type": "stream",
     "text": [
      "SVM accuracy: 0.992\n",
      "              precision    recall  f1-score   support\n",
      "\n",
      "           0       0.99      1.00      0.99       575\n",
      "           1       0.99      0.98      0.99       265\n",
      "\n",
      "    accuracy                           0.99       840\n",
      "   macro avg       0.99      0.99      0.99       840\n",
      "weighted avg       0.99      0.99      0.99       840\n",
      "\n"
     ]
    }
   ],
   "source": [
    "print(f\"SVM accuracy: {acc_svm1:.3f}\")\n",
    "print(report_svm1)"
   ]
  },
  {
   "cell_type": "code",
   "execution_count": 114,
   "id": "bcb60301",
   "metadata": {},
   "outputs": [
    {
     "name": "stdout",
     "output_type": "stream",
     "text": [
      "SVM accuracy: 0.958\n",
      "              precision    recall  f1-score   support\n",
      "\n",
      "           0       0.94      1.00      0.97       575\n",
      "           1       1.00      0.87      0.93       265\n",
      "\n",
      "    accuracy                           0.96       840\n",
      "   macro avg       0.97      0.93      0.95       840\n",
      "weighted avg       0.96      0.96      0.96       840\n",
      "\n"
     ]
    }
   ],
   "source": [
    "print(f\"SVM accuracy: {acc_svm2:.3f}\")\n",
    "print(report_svm2)"
   ]
  },
  {
   "cell_type": "markdown",
   "id": "9b26f540",
   "metadata": {},
   "source": [
    "## Resaux de neurones "
   ]
  },
  {
   "cell_type": "markdown",
   "id": "ce361cf0",
   "metadata": {},
   "source": [
    "Dans le cadre de notre projet, nous souhaitons expliquer notre choix d'utiliser des réseaux de neurones, en particulier les LSTM (Long Short-Term Memory) et les MLP (Multilayer Perceptron), pour la détection de spam. Notre décision repose sur les performances initiales exceptionnelles que nous avons obtenues lors de l'expérimentation précédente.\n",
    "\n",
    "Les LSTM, en raison de leur capacité à prendre en compte les dépendances à long terme dans les données séquentielles, se sont avérés particulièrement efficaces dans la détection de spam. Ils permettent de capturer les schémas complexes présents dans les courriels et d'identifier les caractéristiques spécifiques associées aux spams.\n",
    "\n",
    "D'autre part, les MLP sont également utilisés pour leur capacité à modéliser des relations non linéaires entre les variables d'entrée et de sortie. Bien qu'ils ne prennent pas en compte la séquentialité des données, ils sont capables d'apprendre des modèles de détection de spam à partir des caractéristiques extraites.\n",
    "\n",
    "En ce qui concerne les hyperparamètres, nous avons basé nos choix sur des valeurs éprouvées lors d'expériences précédentes. Étant donné les excellents résultats initiaux obtenus, nous n'avons pas identifié de points d'amélioration évidents, et nous n'avons pas eu le temps d'explorer davantage les possibilités d'optimisation.\n",
    "\n",
    "Dans l'ensemble, notre décision d'utiliser les réseaux de neurones LSTM et MLP pour la détection de spam repose sur leur capacité respective à capturer les dépendances séquentielles et à modéliser des relations non linéaires. Les performances initiales exceptionnelles obtenues, associées à un manque de temps pour des améliorations supplémentaires, ont renforcé notre choix d'aller de l'avant avec ces approches dans notre projet de détection de spam."
   ]
  },
  {
   "cell_type": "markdown",
   "id": "10f65ae7",
   "metadata": {},
   "source": [
    "### LSTM"
   ]
  },
  {
   "cell_type": "markdown",
   "id": "36992b97",
   "metadata": {},
   "source": [
    "L'une des raisons pour lesquelles nous avons choisi d'utiliser les LSTM (Long Short-Term Memory) est leur capacité à traiter les données séquentielles de manière efficace. Contrairement aux réseaux de neurones traditionnels, les LSTM peuvent prendre en compte les dépendances à long terme entre les éléments d'une séquence, ce qui les rend particulièrement adaptés à la détection de spam.\n",
    "\n",
    "Un avantage supplémentaire des LSTM réside dans leur capacité à empiler plusieurs couches LSTM les unes sur les autres. En empilant ces couches, le réseau est capable de capturer des motifs de plus en plus complexes et d'extraire des informations de plus haut niveau à partir des données séquentielles. Cela nous permet de modéliser avec précision les caractéristiques complexes et les schémas présents dans les courriels de spam.\n",
    "\n",
    "Il convient de souligner que nos données et notre méthode de génération de caractéristiques sont relativement basiques, ce qui ne convient pas pleinement aux LSTM. Cependant, les LSTM sont robustes et peuvent s'adapter à des représentations de caractéristiques plus complexes, ce qui en fait un choix approprié pour notre tâche de détection de spam.\n",
    "\n",
    "En résumé, nous avons opté pour les LSTM en raison de leur capacité à traiter les données séquentielles, à empiler des couches pour capturer des motifs complexes et à leur robustesse face à des techniques de représentation de caractéristiques plus avancées."
   ]
  },
  {
   "cell_type": "code",
   "execution_count": 115,
   "id": "071b0700",
   "metadata": {},
   "outputs": [],
   "source": [
    "def define_lstm(length,n):\n",
    "    # channel 1\n",
    "    inputs1 = Input(shape=( 1, length))\n",
    "    #lstm\n",
    "    lstm1=Bidirectional(LSTM(n, return_sequences=True,input_shape = (1, length)))(inputs1)\n",
    "    drop1 = Dropout(0.5)(lstm1)\n",
    "    lstm2=Bidirectional(LSTM(n))(drop1)\n",
    "    drop2 = Dropout(0.5)(lstm2)\n",
    "    # interpretation\n",
    "    dense1 = Dense(120, activation='relu')(drop2)\n",
    "    outputs = Dense(1, activation='sigmoid')(dense1)\n",
    "    model = Model(inputs=[inputs1], outputs=outputs)\n",
    "\n",
    "    return model"
   ]
  },
  {
   "cell_type": "code",
   "execution_count": 116,
   "id": "9b10533f",
   "metadata": {},
   "outputs": [
    {
     "name": "stdout",
     "output_type": "stream",
     "text": [
      "(3358, 10783)\n",
      "(3358, 10783)\n",
      "Epoch 1/5\n",
      "53/53 [==============================] - 12s 32ms/step - loss: 0.2202 - accuracy: 0.8928\n",
      "Epoch 2/5\n",
      "53/53 [==============================] - 2s 32ms/step - loss: 0.0116 - accuracy: 0.9961\n",
      "Epoch 3/5\n",
      "53/53 [==============================] - 2s 29ms/step - loss: 0.0025 - accuracy: 0.9994\n",
      "Epoch 4/5\n",
      "53/53 [==============================] - 1s 27ms/step - loss: 6.1514e-04 - accuracy: 1.0000\n",
      "Epoch 5/5\n",
      "53/53 [==============================] - 1s 27ms/step - loss: 3.7429e-04 - accuracy: 1.0000\n",
      "14/14 [==============================] - 2s 10ms/step - loss: 0.0145 - accuracy: 0.9964\n",
      "[0.014518249779939651, 0.9964285492897034]\n"
     ]
    }
   ],
   "source": [
    "length=X.shape[1] \n",
    "print(Xt1.shape)\n",
    "Xtl1=Xt1.reshape((Xt1.shape[0], 1, Xt1.shape[1])) #transforming the input to match lstm input shape\n",
    "print(Xt1.shape)\n",
    "model=define_lstm(length,64) \n",
    "model.compile(loss='binary_crossentropy', optimizer='adam', metrics=['accuracy'])\n",
    "history=model.fit(Xtl1,Yt1, epochs=5, batch_size=64)\n",
    "Xttl1=Xtt1.reshape((Xtt1.shape[0], 1, Xtt1.shape[1]))\n",
    "results = model.evaluate(Xttl1, Ytt1, batch_size=64)\n",
    "print(results)"
   ]
  },
  {
   "cell_type": "code",
   "execution_count": 117,
   "id": "e3269675",
   "metadata": {},
   "outputs": [
    {
     "name": "stdout",
     "output_type": "stream",
     "text": [
      "27/27 [==============================] - 3s 21ms/step\n",
      "Accuracy: 0.996\n",
      "              precision    recall  f1-score   support\n",
      "\n",
      "           0       1.00      1.00      1.00       575\n",
      "           1       0.99      1.00      0.99       265\n",
      "\n",
      "    accuracy                           1.00       840\n",
      "   macro avg       1.00      1.00      1.00       840\n",
      "weighted avg       1.00      1.00      1.00       840\n",
      "\n"
     ]
    }
   ],
   "source": [
    "# Make predictions on the test set\n",
    "y_pred_lstm1 = model.predict(Xttl1)\n",
    "y_pred_classes_lstm1 = (y_pred_lstm1 > 0.5).astype(int)  # Convert probabilities to class labels\n",
    "\n",
    "# Calculate accuracy\n",
    "acc_lstm1 = accuracy_score(Ytt1, y_pred_classes_lstm1)\n",
    "\n",
    "# Generate classification report\n",
    "report = classification_report(Ytt1, y_pred_classes_lstm1)\n",
    "\n",
    "# Print the accuracy and classification report\n",
    "print(f\"Accuracy: {acc_lstm1:.3f}\")\n",
    "print(report)"
   ]
  },
  {
   "cell_type": "code",
   "execution_count": 118,
   "id": "d8d4c1cf",
   "metadata": {},
   "outputs": [
    {
     "name": "stdout",
     "output_type": "stream",
     "text": [
      "(3358, 10783)\n",
      "(3358, 10783)\n",
      "Epoch 1/5\n",
      "53/53 [==============================] - 13s 30ms/step - loss: 0.3281 - accuracy: 0.8636\n",
      "Epoch 2/5\n",
      "53/53 [==============================] - 2s 32ms/step - loss: 0.0353 - accuracy: 0.9905\n",
      "Epoch 3/5\n",
      "53/53 [==============================] - 1s 23ms/step - loss: 0.0125 - accuracy: 0.9970\n",
      "Epoch 4/5\n",
      "53/53 [==============================] - 1s 23ms/step - loss: 0.0100 - accuracy: 0.9967\n",
      "Epoch 5/5\n",
      "53/53 [==============================] - 1s 23ms/step - loss: 0.0078 - accuracy: 0.9976\n",
      "14/14 [==============================] - 2s 10ms/step - loss: 0.0417 - accuracy: 0.9798\n",
      "[0.04168374091386795, 0.9797618985176086]\n"
     ]
    }
   ],
   "source": [
    "length=X.shape[1] \n",
    "print(Xt2.shape)\n",
    "Xtl2=Xt2.reshape((Xt2.shape[0], 1, Xt1.shape[1]))#transforming the input to match lstm input shape\n",
    "print(Xt2.shape)\n",
    "model=define_lstm(length,64) \n",
    "model.compile(loss='binary_crossentropy', optimizer='adam', metrics=['accuracy'])\n",
    "history=model.fit(Xtl2,Yt1, epochs=5, batch_size=64)\n",
    "Xttl2=Xtt2.reshape((Xtt2.shape[0], 1, Xtt2.shape[1]))\n",
    "results = model.evaluate(Xttl2, Ytt2, batch_size=64)\n",
    "print(results)\n"
   ]
  },
  {
   "cell_type": "code",
   "execution_count": 119,
   "id": "e26d2ec9",
   "metadata": {},
   "outputs": [
    {
     "name": "stdout",
     "output_type": "stream",
     "text": [
      "27/27 [==============================] - 2s 11ms/step\n",
      "Accuracy: 0.980\n",
      "              precision    recall  f1-score   support\n",
      "\n",
      "           0       0.99      0.98      0.99       575\n",
      "           1       0.95      0.98      0.97       265\n",
      "\n",
      "    accuracy                           0.98       840\n",
      "   macro avg       0.97      0.98      0.98       840\n",
      "weighted avg       0.98      0.98      0.98       840\n",
      "\n"
     ]
    }
   ],
   "source": [
    "# Make predictions on the test set\n",
    "y_pred_lstm2 = model.predict(Xttl2)\n",
    "y_pred_classes_lstm2 = (y_pred_lstm2 > 0.5).astype(int)  # Convert probabilities to class labels\n",
    "\n",
    "# Calculate accuracy\n",
    "acc_lstm2 = accuracy_score(Ytt2, y_pred_classes_lstm2)\n",
    "\n",
    "# Generate classification report\n",
    "report = classification_report(Ytt2, y_pred_classes_lstm2)\n",
    "\n",
    "# Print the accuracy and classification report\n",
    "print(f\"Accuracy: {acc_lstm2:.3f}\")\n",
    "print(report)"
   ]
  },
  {
   "cell_type": "markdown",
   "id": "99ed80a8",
   "metadata": {},
   "source": [
    "### MLP"
   ]
  },
  {
   "cell_type": "markdown",
   "id": "5778be8c",
   "metadata": {},
   "source": [
    "Nous avons également choisi d'utiliser des MLP (Multilayer Perceptron) pour la détection de spam. Les MLP sont des réseaux de neurones à propagation avant capables de modéliser des relations non linéaires entre les variables d'entrée et de sortie.\n",
    "\n",
    "Il est important de noter que les MLP offrent différentes architectures possibles, telles que les réseaux profonds, les réseaux larges ou encore les architectures en pyramide. Dans notre cas, nous avons opté pour une architecture en pyramide pour nos MLP.\n",
    "\n",
    "L'architecture en pyramide est caractérisée par une diminution progressive du nombre de neurones à chaque couche. Cela permet de réduire la complexité du modèle tout en conservant la capacité à apprendre des relations non linéaires entre les caractéristiques d'entrée et les étiquettes de sortie. Cette architecture en pyramide est souvent utilisée pour améliorer l'efficacité et la généralisation des MLP.\n",
    "\n",
    "En choisissant l'architecture en pyramide pour nos MLP, nous avons pu exploiter les avantages de la modélisation non linéaire tout en maintenant une certaine simplicité et une meilleure capacité de généralisation."
   ]
  },
  {
   "cell_type": "code",
   "execution_count": 120,
   "id": "e3548aa9",
   "metadata": {},
   "outputs": [],
   "source": [
    "def build_MLP( length, num_layers,predictive_factors):\n",
    "    inputs = Input(shape=(length), name='user_ID')\n",
    "    layer = Flatten()(inputs)\n",
    "    for l in range(num_layers, 0, -1):\n",
    "        layer = Dense(predictive_factors * (2 ** (l - 1)), activation='relu', name='layer%d' % (num_layers - l + 1))(layer)\n",
    "\n",
    "    out = Dense(1, activation='sigmoid', name='output', )(layer)\n",
    "\n",
    "    hMLP_model = Model([inputs], out)\n",
    "\n",
    "    return hMLP_model"
   ]
  },
  {
   "cell_type": "code",
   "execution_count": 121,
   "id": "1a9608a8",
   "metadata": {},
   "outputs": [
    {
     "name": "stdout",
     "output_type": "stream",
     "text": [
      "(3358, 10783)\n",
      "(3358, 10783)\n",
      "Epoch 1/5\n",
      "53/53 [==============================] - 3s 37ms/step - loss: 0.1117 - accuracy: 0.9538\n",
      "Epoch 2/5\n",
      "53/53 [==============================] - 1s 21ms/step - loss: 0.0065 - accuracy: 0.9985\n",
      "Epoch 3/5\n",
      "53/53 [==============================] - 1s 21ms/step - loss: 3.7312e-04 - accuracy: 1.0000\n",
      "Epoch 4/5\n",
      "53/53 [==============================] - 1s 22ms/step - loss: 2.0852e-04 - accuracy: 1.0000\n",
      "Epoch 5/5\n",
      "53/53 [==============================] - 1s 19ms/step - loss: 1.5959e-04 - accuracy: 1.0000\n",
      "14/14 [==============================] - 0s 6ms/step - loss: 0.0232 - accuracy: 0.9976\n",
      "[0.02319910004734993, 0.9976190328598022]\n"
     ]
    }
   ],
   "source": [
    "length=X.shape[1] \n",
    "print(Xt1.shape)\n",
    "print(Xt1.shape)\n",
    "#Xt = Xt.reshape((1, 3358, 1, 26639))\n",
    "model=build_MLP(length,4,64)\n",
    "model.compile(loss='binary_crossentropy', optimizer='adam', metrics=['accuracy'])\n",
    "history=model.fit(Xt1,Yt1, epochs=5, batch_size=64)\n",
    "results = model.evaluate(Xtt1, Ytt1, batch_size=64)\n",
    "print(results)"
   ]
  },
  {
   "cell_type": "code",
   "execution_count": 122,
   "id": "57c7e7e1",
   "metadata": {},
   "outputs": [
    {
     "name": "stdout",
     "output_type": "stream",
     "text": [
      "27/27 [==============================] - 0s 4ms/step\n",
      "Accuracy: 0.998\n",
      "              precision    recall  f1-score   support\n",
      "\n",
      "           0       1.00      1.00      1.00       575\n",
      "           1       0.99      1.00      1.00       265\n",
      "\n",
      "    accuracy                           1.00       840\n",
      "   macro avg       1.00      1.00      1.00       840\n",
      "weighted avg       1.00      1.00      1.00       840\n",
      "\n"
     ]
    }
   ],
   "source": [
    "# Make predictions on the test set\n",
    "y_pred_mlp1 = model.predict(Xtt1)\n",
    "y_pred_classes_mlp1 = (y_pred_mlp1 > 0.5).astype(int)  # Convert probabilities to class labels\n",
    "\n",
    "# Calculate accuracy\n",
    "acc_mlp1 = accuracy_score(Ytt1, y_pred_classes_mlp1)\n",
    "\n",
    "# Generate classification report\n",
    "report = classification_report(Ytt1, y_pred_classes_mlp1)\n",
    "\n",
    "# Print the accuracy and classification report\n",
    "print(f\"Accuracy: {acc_mlp1:.3f}\")\n",
    "print(report)"
   ]
  },
  {
   "cell_type": "code",
   "execution_count": 123,
   "id": "c20dea0f",
   "metadata": {},
   "outputs": [
    {
     "name": "stdout",
     "output_type": "stream",
     "text": [
      "(3358, 10783)\n",
      "(3358, 10783)\n",
      "Epoch 1/5\n",
      "53/53 [==============================] - 2s 19ms/step - loss: 0.1292 - accuracy: 0.9544\n",
      "Epoch 2/5\n",
      "53/53 [==============================] - 1s 20ms/step - loss: 0.0295 - accuracy: 0.9961\n",
      "Epoch 3/5\n",
      "53/53 [==============================] - 1s 19ms/step - loss: 5.8566e-04 - accuracy: 1.0000\n",
      "Epoch 4/5\n",
      "53/53 [==============================] - 1s 19ms/step - loss: 0.0495 - accuracy: 0.9979\n",
      "Epoch 5/5\n",
      "53/53 [==============================] - 1s 19ms/step - loss: 0.0718 - accuracy: 0.9943\n",
      "14/14 [==============================] - 0s 6ms/step - loss: 0.0569 - accuracy: 0.9905\n",
      "[0.056947335600852966, 0.9904761910438538]\n"
     ]
    }
   ],
   "source": [
    "length=X.shape[1] \n",
    "print(Xt1.shape)\n",
    "print(Xt1.shape)\n",
    "#Xt = Xt.reshape((1, 3358, 1, 26639))\n",
    "model=build_MLP(length,4,64)\n",
    "model.compile(loss='binary_crossentropy', optimizer='adam', metrics=['accuracy'])\n",
    "history=model.fit(Xt2,Yt2, epochs=5, batch_size=64)\n",
    "results = model.evaluate(Xtt2, Ytt2, batch_size=64)\n",
    "print(results)"
   ]
  },
  {
   "cell_type": "code",
   "execution_count": 124,
   "id": "b3fa8e67",
   "metadata": {},
   "outputs": [
    {
     "name": "stdout",
     "output_type": "stream",
     "text": [
      "27/27 [==============================] - 0s 5ms/step\n",
      "Accuracy: 0.990\n",
      "              precision    recall  f1-score   support\n",
      "\n",
      "           0       0.99      1.00      0.99       575\n",
      "           1       0.99      0.98      0.98       265\n",
      "\n",
      "    accuracy                           0.99       840\n",
      "   macro avg       0.99      0.99      0.99       840\n",
      "weighted avg       0.99      0.99      0.99       840\n",
      "\n"
     ]
    }
   ],
   "source": [
    "# Make predictions on the test set\n",
    "y_pred_mlp2 = model.predict(Xtt2)\n",
    "y_pred_classes_mlp2 = (y_pred_mlp2 > 0.5).astype(int)  # Convert probabilities to class labels\n",
    "\n",
    "# Calculate accuracy\n",
    "acc_mlp2 = accuracy_score(Ytt2, y_pred_classes_mlp2)\n",
    "\n",
    "# Generate classification report\n",
    "report = classification_report(Ytt2, y_pred_classes_mlp2)\n",
    "\n",
    "# Print the accuracy and classification report\n",
    "print(f\"Accuracy: {acc_mlp2:.3f}\")\n",
    "print(report)"
   ]
  },
  {
   "cell_type": "markdown",
   "id": "e23f4bd5",
   "metadata": {},
   "source": [
    "## Comparaison entre les modèles"
   ]
  },
  {
   "cell_type": "markdown",
   "id": "3319dff1",
   "metadata": {},
   "source": [
    "### Fonction pour les graphes de comparaison  "
   ]
  },
  {
   "cell_type": "code",
   "execution_count": 143,
   "id": "2b52f4b6",
   "metadata": {},
   "outputs": [],
   "source": [
    "import matplotlib.pyplot as plt\n",
    "\n",
    "# Define the classifier names and accuracies\n",
    "classifiers = ['Random Forest', 'KNN', 'logistic regression', 'SVM', 'LSTM', 'MLP']\n",
    "accuracies1 = [acc_rf1, acc_knn1, acc_lr1, acc_svm1, acc_lstm1, acc_mlp1]\n",
    "accuracies2 = [acc_rf2, acc_knn2, acc_lr2, acc_svm2, acc_lstm2, acc_mlp2]\n",
    "\n",
    "\n",
    "#accuracies bar chart\n",
    "def plot_bar_chart(names, values):\n",
    "    # Set up the bar chart\n",
    "    plt.figure(figsize=(10, 6))\n",
    "    bars = plt.bar(names, values, color='blue')\n",
    "\n",
    "    # Add labels and title\n",
    "    plt.xlabel('Classifier')\n",
    "    plt.ylabel('Accuracy')\n",
    "    plt.title('Accuracy of Different Classifiers')\n",
    "\n",
    "    # Add text annotations with accuracy values\n",
    "    for i, bar in enumerate(bars):\n",
    "        plt.text(bar.get_x() + bar.get_width() / 2, bar.get_height(),\n",
    "                 f'{values[i]:.3f}', ha='center', va='bottom')\n",
    "\n",
    "    # Display the bar chart\n",
    "    plt.show()\n",
    "\n",
    "\n",
    "\n",
    "\n",
    "\n"
   ]
  },
  {
   "cell_type": "code",
   "execution_count": 144,
   "id": "562b6aef",
   "metadata": {},
   "outputs": [],
   "source": [
    "\n",
    "\n",
    "def plot_roc_curves(probas, labels,y_true):\n",
    "    # Set up the plot\n",
    "    plt.figure(figsize=(8, 6))\n",
    "\n",
    "    # Plot ROC curve for each classifier\n",
    "    for proba, label in zip(probas, labels):\n",
    "        #because neural networks output one proba while sklearn model output two probas oune for each class\n",
    "        if label==\"LSTM\" or label== \"MLP\":\n",
    "            fpr, tpr, _ = roc_curve(y_true, proba)\n",
    "        else :\n",
    "            fpr, tpr, _ = roc_curve(y_true, proba[:,1])\n",
    "        roc_auc = auc(fpr, tpr)\n",
    "        plt.plot(fpr, tpr, label=f'{label} (AUC = {roc_auc:.3f})')\n",
    "\n",
    "    # Add labels and title\n",
    "    plt.xlabel('False Positive Rate')\n",
    "    plt.ylabel('True Positive Rate')\n",
    "    plt.title('ROC Curve')\n",
    "\n",
    "    # Add legend\n",
    "    plt.legend(loc='lower right')\n",
    "\n",
    "    # Display the plot\n",
    "    plt.show()\n",
    "\n",
    "\n"
   ]
  },
  {
   "cell_type": "code",
   "execution_count": 145,
   "id": "8aa94139",
   "metadata": {},
   "outputs": [],
   "source": [
    "classifiers = ['Random Forest', 'KNN', 'logistic regression', 'SVM', 'LSTM', 'MLP']\n",
    "accuracies1 = [acc_rf1, acc_knn1, acc_lr1, acc_svm1, acc_lstm1, acc_mlp1]\n",
    "accuracies2 = [acc_rf2, acc_knn2, acc_lr2, acc_svm2, acc_lstm2, acc_mlp2]\n",
    "probas1 = [probas_rf1, probas_knn1, probas_lr1,probas_svm1, y_pred_lstm1,y_pred_mlp1]\n",
    "probas2 = [probas_rf2, probas_knn2, probas_lr2,probas_svm2, y_pred_lstm2,y_pred_mlp2]"
   ]
  },
  {
   "cell_type": "markdown",
   "id": "b32fd78c",
   "metadata": {},
   "source": [
    "###  pour l'utilisation des carctéristiques extraite selon la première méthode"
   ]
  },
  {
   "cell_type": "code",
   "execution_count": 146,
   "id": "f0498d33",
   "metadata": {},
   "outputs": [
    {
     "data": {
      "image/png": "[encoded data removed]",
      "text/plain": [
       "<Figure size 1000x600 with 1 Axes>"
      ]
     },
     "metadata": {},
     "output_type": "display_data"
    },
    {
     "data": {
      "image/png": "[encoded data removed]",
      "text/plain": [
       "<Figure size 800x600 with 1 Axes>"
      ]
     },
     "metadata": {},
     "output_type": "display_data"
    }
   ],
   "source": [
    "plot_bar_chart(classifiers, accuracies1)\n",
    "plot_roc_curves(probas1, classifiers,Ytt1)"
   ]
  },
  {
   "cell_type": "markdown",
   "id": "8dd84878",
   "metadata": {},
   "source": [
    "###  pour l'utilisation des carctéristiques extraite selon la deuxième méthode "
   ]
  },
  {
   "cell_type": "code",
   "execution_count": 147,
   "id": "b0a3a351",
   "metadata": {},
   "outputs": [
    {
     "data": {
      "image/png": "[encoded data removed]",
      "text/plain": [
       "<Figure size 1000x600 with 1 Axes>"
      ]
     },
     "metadata": {},
     "output_type": "display_data"
    },
    {
     "data": {
      "image/png": "[encoded data removed]",
      "text/plain": [
       "<Figure size 800x600 with 1 Axes>"
      ]
     },
     "metadata": {},
     "output_type": "display_data"
    }
   ],
   "source": [
    "\n",
    "plot_bar_chart(classifiers, accuracies2)\n",
    "plot_roc_curves(probas2, classifiers,Ytt2)"
   ]
  },
  {
   "cell_type": "markdown",
   "id": "67b9bb90",
   "metadata": {},
   "source": [
    "### Analyse des résultas"
   ]
  },
  {
   "cell_type": "markdown",
   "id": "578a24ab",
   "metadata": {},
   "source": [
    "L'analyse des résultats de nos expérimentations a révélé que les meilleurs modèles pour la détection de spam étaient la Random Forest et la Logistic Regression parmi les algorithmes d'apprentissage automatique traditionnels, ainsi que les réseaux de neurones LSTM et MLP.\n",
    "\n",
    "La Random Forest et la Logistic Regression ont obtenu des performances solides en termes d'exactitude, de précision et de rappel. Ces modèles ont réussi à capturer les schémas et les caractéristiques discriminantes des courriels de spam, leur permettant de fournir des prédictions précises.\n",
    "\n",
    "Quant aux réseaux de neurones LSTM et MLP, ils ont également obtenu de bons résultats. Les LSTM, grâce à leur capacité à traiter les dépendances à long terme dans les données séquentielles, ont démontré leur efficacité dans la détection de spam. Les MLP, quant à eux, ont réussi à modéliser des relations non linéaires entre les caractéristiques d'entrée et les étiquettes de sortie.\n",
    "\n",
    "Par ailleurs, nous avons constaté que l'utilisation des caractéristiques de la méthode \"1\" a conduit à de meilleurs résultats. Cette méthode a permis d'extraire rapidement et efficacement des informations pertinentes des courriels, ce qui a contribué à améliorer les performances des modèles. Les résultats ont été confirmés par l'analyse des graphes de bar d'accuracy et des courbes ROC tracées lors de la comparaison des différents modèles.\n",
    "\n",
    "En résumé, nos expérimentations ont montré que les modèles Random Forest, Logistic Regression, LSTM et MLP étaient tous capables de fournir des résultats prometteurs dans la détection de spam. L'utilisation des caractéristiques de la méthode \"1\" s'est avérée particulièrement efficace, offrant à la fois simplicité et rapidité dans l'extraction des informations. Ces résultats nous permettent de choisir les meilleurs modèles et approches pour le déploiement d'un système de détection de spam efficace."
   ]
  },
  {
   "cell_type": "markdown",
   "id": "06603eb7",
   "metadata": {},
   "source": [
    "# Conclusion "
   ]
  },
  {
   "cell_type": "markdown",
   "id": "f04876df",
   "metadata": {},
   "source": [
    "En conclusion, nos expérimentations dans la détection de spam ont démontré que tous les modèles, y compris la Random Forest, la Logistic Regression, les réseaux de neurones LSTM et MLP, ont obtenu d'excellents résultats avec les données disponibles. Cependant, il est important de souligner que ces résultats sont basés sur un ensemble de données spécifique, qui peut ne pas être totalement représentatif de la performance réelle des modèles.\n",
    "\n",
    "Il est crucial de tester nos modèles avec des données plus difficiles et complexes pour évaluer et apprécier pleinement leur capacité et leur puissance. Les données réelles peuvent présenter une plus grande variabilité, des schémas plus subtils et des caractéristiques plus complexes. Tester les modèles sur de tels ensembles de données permettra d'obtenir une évaluation plus réaliste de leurs performances.\n",
    "\n",
    "En outre, il convient de noter que les différents modèles de réseaux de neurones offrent des capacités et des avantages distincts. Les LSTM sont particulièrement adaptés au traitement de données séquentielles, tandis que les MLP peuvent capturer des relations non linéaires entre les caractéristiques d'entrée et les étiquettes de sortie. L'utilisation d'architectures de réseaux de neurones plus avancées et complexes peut également être explorée pour des tâches de détection de spam plus difficiles.\n",
    "\n",
    "En somme, cette étude souligne l'importance de tester nos modèles avec des données plus représentatives pour une évaluation précise de leurs performances. Elle met également en évidence la diversité des architectures de réseaux de neurones disponibles et l'importance de choisir le modèle le mieux adapté à la tâche spécifique de détection de spam. Ce projet constitue une base solide pour approfondir la recherche et le développement de systèmes de détection de spam plus robustes et efficaces."
   ]
  },
  {
   "cell_type": "code",
   "execution_count": null,
   "id": "219b41c4",
   "metadata": {},
   "outputs": [],
   "source": []
  }
 ],
 "metadata": {
  "kernelspec": {
   "display_name": "Python 3 (ipykernel)",
   "language": "python",
   "name": "python3"
  },
  "language_info": {
   "codemirror_mode": {
    "name": "ipython",
    "version": 3
   },
   "file_extension": ".py",
   "mimetype": "text/x-python",
   "name": "python",
   "nbconvert_exporter": "python",
   "pygments_lexer": "ipython3",
   "version": "3.10.9"
  }
 },
 "nbformat": 4,
 "nbformat_minor": 5
}
