{
 "cells": [
  {
   "cell_type": "markdown",
   "metadata": {},
   "source": [
    "### Réalisé par :\n",
    "* BOUDJENAH Nassim 19193108984 G1\n",
    "* NOUGHI Tarek 191931041952 G1\n",
    "* KORICHI Samia 191932037747 G1\n",
    "* LABIOD Dalil  191932019686 G2"
   ]
  },
  {
   "cell_type": "markdown",
   "metadata": {
    "id": "23HhZ0TZl0zP"
   },
   "source": [
    "# TP 1 Mesures de performance\n",
    "Dans ce TP, nous aimerions avoir un premier aperçu sur les algorithmes d'apprentissage automatique. Plus précisément, nous aimerions évaluer leurs performances en utilisant les métriques suivantes:\n",
    "- Matrice de conusion\n",
    "- Rappel\n",
    "- Précision\n",
    "- Taux de FP\n",
    "- Spécificité\n",
    "- Courbe ROC\n",
    "\n",
    "Les mesures devront être calculées sur la tâche de classification de nombres manuscrits.\n",
    "\n",
    "Le travail consiste à implementer ces métriques et à les comparer avec les métriques des librairies disponibles.\n",
    "\n",
    "Les algorithmes : K plus Proches Voisins devront être implementés."
   ]
  },
  {
   "cell_type": "markdown",
   "metadata": {
    "id": "RnUKQQfjl0ze"
   },
   "source": [
    "# Importation des librairies necessaires au travail"
   ]
  },
  {
   "cell_type": "code",
   "execution_count": 1,
   "metadata": {
    "executionInfo": {
     "elapsed": 1671,
     "status": "ok",
     "timestamp": 1646692651996,
     "user": {
      "displayName": "Mounir Dekali",
      "photoUrl": "https://lh3.googleusercontent.com/a-/AOh14Gg8ysiB3LFZobpTpBaxvF4VcyOV4pcw95wF6Mdyhw=s64",
      "userId": "18151484264085085052"
     },
     "user_tz": -60
    },
    "id": "YDZVV6GVl0zg"
   },
   "outputs": [],
   "source": [
    "import numpy as np\n",
    "import cv2 \n",
    "import pandas as pd\n",
    "import matplotlib.pyplot as plt\n",
    "from numpy import random\n",
    "from sklearn.neural_network import MLPClassifier\n",
    "from sklearn.model_selection import train_test_split\n",
    "from sklearn import svm\n",
    "from sklearn.tree import DecisionTreeClassifier\n",
    "from sklearn.neighbors import KNeighborsClassifier\n",
    "from sklearn import metrics\n",
    "from sklearn.preprocessing import StandardScaler"
   ]
  },
  {
   "cell_type": "code",
   "execution_count": 2,
   "metadata": {
    "executionInfo": {
     "elapsed": 2710,
     "status": "ok",
     "timestamp": 1646692656130,
     "user": {
      "displayName": "Mounir Dekali",
      "photoUrl": "https://lh3.googleusercontent.com/a-/AOh14Gg8ysiB3LFZobpTpBaxvF4VcyOV4pcw95wF6Mdyhw=s64",
      "userId": "18151484264085085052"
     },
     "user_tz": -60
    },
    "id": "Uqyb8vZ3l0zk"
   },
   "outputs": [],
   "source": [
    "# Pour RNC\n",
    "from sklearn.model_selection import KFold\n",
    "from sklearn.cluster import KMeans\n",
    "from tensorflow.keras.datasets import mnist\n",
    "from tensorflow.keras.utils import to_categorical\n",
    "from tensorflow.keras.models import Sequential\n",
    "from tensorflow.keras.layers import Conv2D\n",
    "from tensorflow.keras.layers import MaxPooling2D\n",
    "from tensorflow.keras.layers import Dense\n",
    "from tensorflow.keras.layers import Flatten\n",
    "from tensorflow.keras.layers import Input\n",
    "from tensorflow.keras.layers import Dropout\n",
    "from tensorflow.keras.optimizers import SGD"
   ]
  },
  {
   "cell_type": "markdown",
   "metadata": {
    "id": "_nT_H3aPl0zm"
   },
   "source": [
    "# Lecture des fichiers de données à classifier\n",
    "Pour ce TP, nous allons lire les données à partir d'un fichier csv."
   ]
  },
  {
   "cell_type": "markdown",
   "metadata": {
    "id": "c-UeYc9GaCzZ"
   },
   "source": []
  },
  {
   "cell_type": "code",
   "execution_count": 3,
   "metadata": {
    "colab": {
     "base_uri": "https://localhost:8080/",
     "height": 363
    },
    "executionInfo": {
     "elapsed": 7,
     "status": "error",
     "timestamp": 1646692659670,
     "user": {
      "displayName": "Mounir Dekali",
      "photoUrl": "https://lh3.googleusercontent.com/a-/AOh14Gg8ysiB3LFZobpTpBaxvF4VcyOV4pcw95wF6Mdyhw=s64",
      "userId": "18151484264085085052"
     },
     "user_tz": -60
    },
    "id": "91b0p4qbl0zn",
    "outputId": "6122521a-5308-498d-e11e-17f66e01b07d"
   },
   "outputs": [
    {
     "name": "stdout",
     "output_type": "stream",
     "text": [
      "(5000, 400)\n"
     ]
    }
   ],
   "source": [
    "# données\n",
    "X = np.genfromtxt('data.csv', delimiter=',', dtype=int)\n",
    "print(X.shape)\n",
    "df = pd.read_csv(\"data.csv\",nrows=5000)"
   ]
  },
  {
   "cell_type": "code",
   "execution_count": 4,
   "metadata": {
    "colab": {
     "base_uri": "https://localhost:8080/"
    },
    "executionInfo": {
     "elapsed": 263,
     "status": "ok",
     "timestamp": 1646666818665,
     "user": {
      "displayName": "Mounir Dekali",
      "photoUrl": "https://lh3.googleusercontent.com/a-/AOh14Gg8ysiB3LFZobpTpBaxvF4VcyOV4pcw95wF6Mdyhw=s64",
      "userId": "18151484264085085052"
     },
     "user_tz": -60
    },
    "id": "j6KdcfC8l0zq",
    "outputId": "61a2ca31-b8d4-447d-e6f2-25d0ce9f8175"
   },
   "outputs": [
    {
     "data": {
      "text/plain": [
       "(5000,)"
      ]
     },
     "execution_count": 4,
     "metadata": {},
     "output_type": "execute_result"
    }
   ],
   "source": [
    "# étiquettes\n",
    "Y = np.genfromtxt('labels.csv', delimiter=',', dtype=int)\n",
    "Y[Y==10]=0\n",
    "Y.shape"
   ]
  },
  {
   "cell_type": "markdown",
   "metadata": {
    "id": "TY2OixHCl0zs"
   },
   "source": [
    "Afficher aléatoirement quelques données de notre base"
   ]
  },
  {
   "cell_type": "code",
   "execution_count": 5,
   "metadata": {
    "colab": {
     "base_uri": "https://localhost:8080/",
     "height": 118
    },
    "executionInfo": {
     "elapsed": 2304,
     "status": "ok",
     "timestamp": 1646666823844,
     "user": {
      "displayName": "Mounir Dekali",
      "photoUrl": "https://lh3.googleusercontent.com/a-/AOh14Gg8ysiB3LFZobpTpBaxvF4VcyOV4pcw95wF6Mdyhw=s64",
      "userId": "18151484264085085052"
     },
     "user_tz": -60
    },
    "id": "QMTnUdBql0zu",
    "outputId": "5b2dda71-20a2-4ab8-e707-a2e19c0f2fc8"
   },
   "outputs": [
    {
     "data": {
      "image/png": "[encoded data removed]",
      "text/plain": [
       "<Figure size 1500x800 with 13 Axes>"
      ]
     },
     "metadata": {},
     "output_type": "display_data"
    }
   ],
   "source": [
    "plt.figure(figsize=(15,8))\n",
    "for i in range(13): #note: each 500 lines, there is a new value\n",
    "    c = random.randint(X.shape[0]) #pick a random line from the dataset \n",
    "    a = X[c,:].reshape((20, 20)) #shape of one number in the image \n",
    "    a=np.transpose(a) # la transposé (rendre les ligne des colonne et vice versa)\n",
    "    plt.subplot(1,13,i+1)\n",
    "    plt.title('label '+ str(Y[c]))\n",
    "    plt.imshow(a,cmap='gray')"
   ]
  },
  {
   "cell_type": "markdown",
   "metadata": {
    "id": "UM03Af2dl0zv"
   },
   "source": [
    "Notons que l'étiquette 10 concerne le chiffre 0. L'étiquette a été utilisée ainsi afin de faciliter les calculs conséquents."
   ]
  },
  {
   "cell_type": "markdown",
   "metadata": {
    "id": "s80Yb_gul0zx"
   },
   "source": [
    "# Implémentation des métriques demandées\n",
    "Ici il faut écrire les fonctions, puis les appeler dans la suite du code"
   ]
  },
  {
   "cell_type": "markdown",
   "metadata": {},
   "source": [
    "- Matrice de confusion :"
   ]
  },
  {
   "cell_type": "code",
   "execution_count": 6,
   "metadata": {},
   "outputs": [],
   "source": [
    "# en entrée on a les labels ground truth y_test et les labels prédit y_pred\n",
    "def ConfusionMatrix(y_test, y_pred):\n",
    "    # on creer une matrice de  zéro  n*n  ou n est le nombre de classe \n",
    "    N = len(np.unique(y_test)) \n",
    "    M = np.zeros((N,N),dtype=\"int64\")  \n",
    "     # on doit caster le vecteur des prédiction car certain modèle retourne les classes comme des réels\n",
    "    y_pred=y_pred.astype(int)\n",
    "    # on parcoure les deux vecteurs en meme temps et en met ajour la matrice de confusion \n",
    "    for i in range(len(y_test)): \n",
    "        M[y_test[i],y_pred[i]] = M[y_test[i],y_pred[i]] +1 \n",
    "    return M"
   ]
  },
  {
   "cell_type": "code",
   "execution_count": 7,
   "metadata": {},
   "outputs": [],
   "source": [
    "# on prend la matrice de confusion et on extrait les vrai positifs,les faux négatifs,les faux positifs et les vrai négatifs\n",
    "#pour chaque classe\n",
    "def extract(m):\n",
    "    TP=m.diagonal() # les vrai positifs c'est la diagonale\n",
    "    FN=np.sum(m,axis=1)-TP # les faux négatifs sont la somme des lignes moin les vrai positifs\n",
    "    FP=np.sum(m,axis=0)-TP # les faux positifs sont la somme des colonnes moin les vrai positifs\n",
    "    TN= np.full(m.shape[0], np.sum(m))-(TP+FN+FP) # les vrai positifs c'est la somme de la matrice moins les autres métriques\n",
    "\n",
    "    return TP,FN,FP,TN"
   ]
  },
  {
   "cell_type": "markdown",
   "metadata": {},
   "source": [
    "- Accuracy = (TP + TN)/(TP + TN + FP + FN)"
   ]
  },
  {
   "cell_type": "code",
   "execution_count": 8,
   "metadata": {},
   "outputs": [],
   "source": [
    "def Accuracy(TP,TN,FP,FN):\n",
    "    Accuracy=(TP+TN)/( TP+TN + FP + FN)\n",
    "    return Accuracy\n"
   ]
  },
  {
   "cell_type": "markdown",
   "metadata": {
    "id": "-mRS4onu-52j"
   },
   "source": [
    "- Recall (True Positive Rate) = TP/(TP + FN)"
   ]
  },
  {
   "cell_type": "code",
   "execution_count": 9,
   "metadata": {
    "colab": {
     "background_save": true
    },
    "id": "ReRWcXEYgeQe"
   },
   "outputs": [],
   "source": [
    "def Recall(TP,FN):\n",
    "    Recall=TP /(TP  + FN)\n",
    "    return Recall\n"
   ]
  },
  {
   "cell_type": "markdown",
   "metadata": {
    "id": "iy1P5tes-jM8"
   },
   "source": [
    "- Précision = TP/(TP + FP)"
   ]
  },
  {
   "cell_type": "code",
   "execution_count": 10,
   "metadata": {
    "colab": {
     "background_save": true
    },
    "id": "bnHz28P0Z36s"
   },
   "outputs": [],
   "source": [
    "def Precision(TP,FP):\n",
    "    Precision=TP/(TP  + FP)\n",
    "    return Precision\n"
   ]
  },
  {
   "cell_type": "markdown",
   "metadata": {
    "id": "2SUXNHkz-qd5"
   },
   "source": [
    "- Taux de FP (False Positive Rate) = FP / (FP + TN)"
   ]
  },
  {
   "cell_type": "code",
   "execution_count": 11,
   "metadata": {
    "colab": {
     "background_save": true
    },
    "id": "r_o0qyv2l0z3"
   },
   "outputs": [],
   "source": [
    "def Taux_FP(FP,TN):\n",
    "    Taux_FP= FP /(FP  + TN)\n",
    "    return Taux_FP"
   ]
  },
  {
   "cell_type": "markdown",
   "metadata": {
    "id": "7gx9qcAK-wnc"
   },
   "source": [
    "- Spécificité (True Negative Rate) = TN / (TN + FP)"
   ]
  },
  {
   "cell_type": "code",
   "execution_count": 12,
   "metadata": {
    "colab": {
     "background_save": true
    },
    "id": "DEXYGvurl0z5"
   },
   "outputs": [],
   "source": [
    "def Specificite(TN,FP):\n",
    "    Specificite=TN /(TN  + FP)\n",
    "    return Specificite\n"
   ]
  },
  {
   "cell_type": "markdown",
   "metadata": {
    "id": "ENA_XiFMl0z5"
   },
   "source": [
    "- Courbe ROC"
   ]
  },
  {
   "cell_type": "code",
   "execution_count": 13,
   "metadata": {
    "colab": {
     "background_save": true
    },
    "id": "YFmaIDffl0z6"
   },
   "outputs": [],
   "source": [
    "# pour creer la  courbe roc  d'une classe en plus des labels et des prédiction on précise la classe c et aussi les seuils \n",
    "# par la suite on opte pour l'utilisation des seuils géneré par sklearn pour avoir une meilleurs courbe \n",
    "def Courbe_ROC(y_test, y_pred,c,ths):\n",
    "    #liste des Taux de faux positif et vrai positif \n",
    "    fpr=[]\n",
    "    tpr=[]\n",
    "    # on selection le vecteur de proba de la classe c\n",
    "    pred=y_pred[:,c]\n",
    "    #on transforme les labels tel que la classe c devient 1 et les autres 0\n",
    "    test=np.copy(y_test)\n",
    "    test[test==c]=10\n",
    "    test[test<10]=0\n",
    "    test[test==10]=1\n",
    "    for th in ths:\n",
    "        # selon le seuil on met les proba du vecteur de prédiction a 1 ou 0\n",
    "        predth=np.copy(pred)\n",
    "        predth[predth<th]=0\n",
    "        predth[predth>=th]=1\n",
    "        #on utilisant les fonctions déja définit ont calcule  Taux de faux positif et vrai positif  en on rajoute a \n",
    "        #leurs liste resprctive les valeur pour la classe 1 \n",
    "        m=ConfusionMatrix(test, predth)\n",
    "        TP,FN,FP,TN=extract(m)\n",
    "        fpr.append(Taux_FP(FP,TN)[1])\n",
    "        tpr.append(Recall(TP,FN)[1])\n",
    "    return fpr,tpr"
   ]
  },
  {
   "cell_type": "code",
   "execution_count": 14,
   "metadata": {},
   "outputs": [],
   "source": [
    "#calcule les valeurs pour tracer les courbe roc pour toute les classe une fois avec fonction sklearn et aprés \n",
    "# avec nos propre méthode \n",
    "def roc_class(y_test,y_pred):\n",
    "    fprs=[]\n",
    "    tprs=[]\n",
    "    rocs=[]\n",
    "    fprs1=[]\n",
    "    tprs1=[]\n",
    "    rocs1=[]  \n",
    "    for c in range (0,10): \n",
    "        #pour chaque classe calcule de  Taux de faux positif et vrai positif  on utilisant sklearn\n",
    "        Yttt=np.copy(y_test)\n",
    "        Yttt[Yttt==c]=10\n",
    "        Yttt[Yttt<10]=0\n",
    "        Yttt[Yttt==10]=1\n",
    "        pp=y_pred[:,c]\n",
    "        fpr,tpr,th=metrics.roc_curve(Yttt,pp)\n",
    "        auc = metrics.auc(fpr, tpr)  # calcule du AUC\n",
    "        fprs.append(fpr)\n",
    "        tprs.append(tpr)\n",
    "        rocs.append(auc)\n",
    "        #  calcule de  Taux de faux positif et vrai positif  on utilisant notre implémentation\n",
    "        fpr1,tpr1=Courbe_ROC(y_test, y_pred,c,th)\n",
    "        auc1=np.trapz(tpr1,fpr1) # calcule du auc en utilisant l'integral avec la fonction trapz \n",
    "        fprs1.append(fpr1)\n",
    "        tprs1.append(tpr1)\n",
    "        rocs1.append(auc1)\n",
    "        \n",
    "    return  fprs,tprs,rocs,fprs1,tprs1,rocs1  "
   ]
  },
  {
   "cell_type": "code",
   "execution_count": 15,
   "metadata": {},
   "outputs": [],
   "source": [
    "#tracer les courbe de chaque classe dans le meme graphe \n",
    "def roc_figure(fprs,tprs,rocs) :\n",
    "    plt.figure()\n",
    "    lw = 2 # précisé l'épesseur des graphes \n",
    "    for i in range (0,10): \n",
    "        #tracer la courbe de la classe i et afficher la valeur du AUC dans le label\n",
    "        plt.plot(fprs[i], tprs[i],lw=lw, label='Class'+str(i)+' ROC curve (AUC = %0.2f)' % rocs[i])\n",
    "    #droite pour comparez avec \n",
    "    plt.plot([0, 1], [0, 1], color='black', lw=lw, linestyle='--')\n",
    "    #légerment espacé les axes des x et y pour que les graphes ne soit pas collé aux axes \n",
    "    plt.xlim([-0.05, 1.0])\n",
    "    plt.ylim([0.0, 1.05])\n",
    "    plt.xlabel('False Positive Rate')\n",
    "    plt.ylabel('True Positive Rate')\n",
    "    plt.title('ROC curves')\n",
    "    plt.legend(loc=\"lower right\")\n",
    "    plt.show()\n",
    " "
   ]
  },
  {
   "cell_type": "markdown",
   "metadata": {
    "id": "IHfn7fgbl0z6"
   },
   "source": [
    "# Classification"
   ]
  },
  {
   "cell_type": "markdown",
   "metadata": {
    "id": "PGKbOn3el0z7"
   },
   "source": [
    "Définir d'abord la base d'entrainement Xt, Yt et la base de test Xtt, Ytt"
   ]
  },
  {
   "cell_type": "code",
   "execution_count": 16,
   "metadata": {
    "executionInfo": {
     "elapsed": 250,
     "status": "ok",
     "timestamp": 1646667242179,
     "user": {
      "displayName": "Mounir Dekali",
      "photoUrl": "https://lh3.googleusercontent.com/a-/AOh14Gg8ysiB3LFZobpTpBaxvF4VcyOV4pcw95wF6Mdyhw=s64",
      "userId": "18151484264085085052"
     },
     "user_tz": -60
    },
    "id": "mH2tdgEPl0z7"
   },
   "outputs": [],
   "source": [
    "scaler = StandardScaler()\n",
    "scaler.fit(X)\n",
    "scaled_features = scaler.transform(X)\n",
    "Xt, Xtt, Yt, Ytt = train_test_split(\n",
    "      scaled_features, Y, test_size = 0.30)"
   ]
  },
  {
   "cell_type": "markdown",
   "metadata": {
    "id": "ZEArHIKJl0z8"
   },
   "source": [
    "# Méthode 0: K- Plus Proches Voisins"
   ]
  },
  {
   "cell_type": "markdown",
   "metadata": {
    "id": "Uh7xVfJUl0z9"
   },
   "source": [
    "Ici il faudra implémenter la méthode, puis la tester et vérifier les métriques en variant le nombre K"
   ]
  },
  {
   "cell_type": "code",
   "execution_count": 17,
   "metadata": {},
   "outputs": [],
   "source": [
    "# on definit le modèle knn comme une classe \n",
    "class KNNClassifier:\n",
    "    #dans le constructeure de la classe on précise la valeur de K\n",
    "    def __init__(self, k):\n",
    "        self.k = k\n",
    "    # lors du fit on vas sauvgardé le données et labels du training set pour les utilisé lors du calcule des distances \n",
    "    # pour faire les prédictions     \n",
    "    def fit(self, X, y):\n",
    "        self.X_train = X\n",
    "        self.y_train = y\n",
    "   #la methode predict retoun les prédiction pour un vecteur en entrée      \n",
    "    def predict(self, X):\n",
    "        predictions = []\n",
    "        for x in X:\n",
    "            # pour chaque données du vecteurs X en calcule les prédictions\n",
    "            # on calcule la distances euclidean en exploitant np.sum pour faire un calcule pour chaque ligene du trainset \n",
    "            #et eviter l'utilisation d'une boucle\n",
    "            distances = np.sqrt(np.sum((self.X_train - x)**2, axis=1))\n",
    "            # on trie la liste des distance avec argsort qui retourne les index trié et on selectionne les k plus proche voisin\n",
    "            nearest_neighbors = np.argsort(distances)[:self.k]\n",
    "            # on récupére les labels des k plus proches voisin \n",
    "            nearest_labels = self.y_train[nearest_neighbors]\n",
    "            #on calcule la fréquences des classes dans les k-plus proche voisin et la classe prédite\n",
    "            #est la classe avec la plus grande fréquences\n",
    "            counts = np.bincount(nearest_labels)\n",
    "            predicted_label = np.argmax(counts)\n",
    "            predictions.append(predicted_label)\n",
    "        return np.array(predictions)\n",
    "    #pour le calcule des proba on procéde de la meme manière \n",
    "    def predict_proba(self, X):\n",
    "        probas = []\n",
    "        for x in X:\n",
    "            distances = np.sqrt(np.sum((self.X_train - x)**2, axis=1))\n",
    "            nearest_neighbors = np.argsort(distances)[:self.k]\n",
    "            nearest_labels = self.y_train[nearest_neighbors]\n",
    "            # mais lors du calcule des fréquences on vas forcé la methode de consideré toutes les classes pas \n",
    "            # seulement les classe présent parmis les k plus proche voisin\n",
    "            counts = np.bincount(nearest_labels, minlength=len(np.unique(self.y_train)))\n",
    "            # on dévise les fréquence par k pour optenir le vecteur de proba \n",
    "            proba = counts / self.k\n",
    "            probas.append(proba)\n",
    "        return np.array(probas)\n",
    "\n"
   ]
  },
  {
   "cell_type": "code",
   "execution_count": 18,
   "metadata": {
    "scrolled": true
   },
   "outputs": [
    {
     "name": "stdout",
     "output_type": "stream",
     "text": [
      "0.8608812923553604\n"
     ]
    }
   ],
   "source": [
    "#example d'utilisation du knn de sklearn\n",
    "\n",
    "knn = KNeighborsClassifier(n_neighbors = 8).fit(Xt, Yt)\n",
    "  \n",
    "y_pred = knn.predict(Xtt)\n",
    "recall=metrics.recall_score(Ytt, y_pred,average=\"macro\")\n",
    "print( recall)"
   ]
  },
  {
   "cell_type": "code",
   "execution_count": 19,
   "metadata": {},
   "outputs": [
    {
     "name": "stdout",
     "output_type": "stream",
     "text": [
      "0.8608812923553604\n"
     ]
    }
   ],
   "source": [
    "#example d'utilisation de notre implémentation de knn\n",
    "\n",
    "knn = KNNClassifier(k=8)\n",
    "knn.fit(Xt, Yt)\n",
    "y_pred = knn.predict(Xtt)\n",
    "m= ConfusionMatrix(Ytt, y_pred)\n",
    "TP,FN,FP,TN=extract(m)\n",
    "b= Recall(TP,FN)\n",
    "print(np.mean(b))"
   ]
  },
  {
   "cell_type": "markdown",
   "metadata": {
    "id": "v9wv0lPTl0z-",
    "scrolled": false
   },
   "source": [
    "# Méthode 1: MVS\n",
    "Machine à Vecteurs de Support"
   ]
  },
  {
   "cell_type": "code",
   "execution_count": 20,
   "metadata": {
    "colab": {
     "background_save": true
    },
    "id": "I87X5WBKl0z_"
   },
   "outputs": [],
   "source": [
    "#Créer le modèle\n",
    "model= svm.SVC(kernel='linear') \n",
    "# entrainement \n",
    "model.fit(Xt, Yt)\n",
    "# Prediction\n",
    "y_pred = model.predict(Xtt)"
   ]
  },
  {
   "cell_type": "code",
   "execution_count": 21,
   "metadata": {
    "colab": {
     "background_save": true
    },
    "id": "qC8bd0uCl0z_"
   },
   "outputs": [
    {
     "name": "stdout",
     "output_type": "stream",
     "text": [
      "6\n"
     ]
    },
    {
     "data": {
      "text/plain": [
       "<matplotlib.image.AxesImage at 0x2030f1a2830>"
      ]
     },
     "execution_count": 21,
     "metadata": {},
     "output_type": "execute_result"
    },
    {
     "data": {
      "image/png": "[encoded data removed]",
      "text/plain": [
       "<Figure size 640x480 with 1 Axes>"
      ]
     },
     "metadata": {},
     "output_type": "display_data"
    }
   ],
   "source": [
    "# tester une image\n",
    "c= 3\n",
    "print (y_pred[c])\n",
    "a = Xtt[c,:].reshape((20, 20))\n",
    "a=np.transpose(a)\n",
    "plt.title('label '+ str(Ytt[c]))\n",
    "plt.imshow(a,cmap='gray')"
   ]
  },
  {
   "cell_type": "markdown",
   "metadata": {
    "id": "kF8Vvak9l00A"
   },
   "source": [
    "# Méthode 2: Arbres de décision\n"
   ]
  },
  {
   "cell_type": "code",
   "execution_count": 22,
   "metadata": {
    "colab": {
     "background_save": true
    },
    "id": "SOGXAVhGl00B"
   },
   "outputs": [],
   "source": [
    "# Créer le modèle\n",
    "model = DecisionTreeClassifier()\n",
    "# Entrainer le modèle\n",
    "model = model.fit(Xt, Yt)\n",
    "# Prediction\n",
    "y_pred = model.predict(Xtt)"
   ]
  },
  {
   "cell_type": "code",
   "execution_count": 23,
   "metadata": {
    "colab": {
     "background_save": true
    },
    "id": "jcndAmvbl00B"
   },
   "outputs": [
    {
     "name": "stdout",
     "output_type": "stream",
     "text": [
      "6\n"
     ]
    },
    {
     "data": {
      "text/plain": [
       "<matplotlib.image.AxesImage at 0x2030f25df30>"
      ]
     },
     "execution_count": 23,
     "metadata": {},
     "output_type": "execute_result"
    },
    {
     "data": {
      "image/png": "[encoded data removed]",
      "text/plain": [
       "<Figure size 640x480 with 1 Axes>"
      ]
     },
     "metadata": {},
     "output_type": "display_data"
    }
   ],
   "source": [
    "# tester une image\n",
    "c= 3\n",
    "print (y_pred[c])\n",
    "a = Xtt[c,:].reshape((20, 20))\n",
    "a=np.transpose(a)\n",
    "plt.title('label '+ str(Ytt[c]))\n",
    "plt.imshow(a,cmap='gray')"
   ]
  },
  {
   "cell_type": "markdown",
   "metadata": {
    "id": "4rZNPN91l00C"
   },
   "source": [
    "# Méthode 3: RN \n",
    "Réseaux de neurones Perceptron"
   ]
  },
  {
   "cell_type": "code",
   "execution_count": 24,
   "metadata": {
    "colab": {
     "background_save": true
    },
    "id": "ZqseGqptl00E"
   },
   "outputs": [
    {
     "data": {
      "text/html": [
       "<style>#sk-container-id-1 {color: black;background-color: white;}#sk-container-id-1 pre{padding: 0;}#sk-container-id-1 div.sk-toggleable {background-color: white;}#sk-container-id-1 label.sk-toggleable__label {cursor: pointer;display: block;width: 100%;margin-bottom: 0;padding: 0.3em;box-sizing: border-box;text-align: center;}#sk-container-id-1 label.sk-toggleable__label-arrow:before {content: \"▸\";float: left;margin-right: 0.25em;color: #696969;}#sk-container-id-1 label.sk-toggleable__label-arrow:hover:before {color: black;}#sk-container-id-1 div.sk-estimator:hover label.sk-toggleable__label-arrow:before {color: black;}#sk-container-id-1 div.sk-toggleable__content {max-height: 0;max-width: 0;overflow: hidden;text-align: left;background-color: #f0f8ff;}#sk-container-id-1 div.sk-toggleable__content pre {margin: 0.2em;color: black;border-radius: 0.25em;background-color: #f0f8ff;}#sk-container-id-1 input.sk-toggleable__control:checked~div.sk-toggleable__content {max-height: 200px;max-width: 100%;overflow: auto;}#sk-container-id-1 input.sk-toggleable__control:checked~label.sk-toggleable__label-arrow:before {content: \"▾\";}#sk-container-id-1 div.sk-estimator input.sk-toggleable__control:checked~label.sk-toggleable__label {background-color: #d4ebff;}#sk-container-id-1 div.sk-label input.sk-toggleable__control:checked~label.sk-toggleable__label {background-color: #d4ebff;}#sk-container-id-1 input.sk-hidden--visually {border: 0;clip: rect(1px 1px 1px 1px);clip: rect(1px, 1px, 1px, 1px);height: 1px;margin: -1px;overflow: hidden;padding: 0;position: absolute;width: 1px;}#sk-container-id-1 div.sk-estimator {font-family: monospace;background-color: #f0f8ff;border: 1px dotted black;border-radius: 0.25em;box-sizing: border-box;margin-bottom: 0.5em;}#sk-container-id-1 div.sk-estimator:hover {background-color: #d4ebff;}#sk-container-id-1 div.sk-parallel-item::after {content: \"\";width: 100%;border-bottom: 1px solid gray;flex-grow: 1;}#sk-container-id-1 div.sk-label:hover label.sk-toggleable__label {background-color: #d4ebff;}#sk-container-id-1 div.sk-serial::before {content: \"\";position: absolute;border-left: 1px solid gray;box-sizing: border-box;top: 0;bottom: 0;left: 50%;z-index: 0;}#sk-container-id-1 div.sk-serial {display: flex;flex-direction: column;align-items: center;background-color: white;padding-right: 0.2em;padding-left: 0.2em;position: relative;}#sk-container-id-1 div.sk-item {position: relative;z-index: 1;}#sk-container-id-1 div.sk-parallel {display: flex;align-items: stretch;justify-content: center;background-color: white;position: relative;}#sk-container-id-1 div.sk-item::before, #sk-container-id-1 div.sk-parallel-item::before {content: \"\";position: absolute;border-left: 1px solid gray;box-sizing: border-box;top: 0;bottom: 0;left: 50%;z-index: -1;}#sk-container-id-1 div.sk-parallel-item {display: flex;flex-direction: column;z-index: 1;position: relative;background-color: white;}#sk-container-id-1 div.sk-parallel-item:first-child::after {align-self: flex-end;width: 50%;}#sk-container-id-1 div.sk-parallel-item:last-child::after {align-self: flex-start;width: 50%;}#sk-container-id-1 div.sk-parallel-item:only-child::after {width: 0;}#sk-container-id-1 div.sk-dashed-wrapped {border: 1px dashed gray;margin: 0 0.4em 0.5em 0.4em;box-sizing: border-box;padding-bottom: 0.4em;background-color: white;}#sk-container-id-1 div.sk-label label {font-family: monospace;font-weight: bold;display: inline-block;line-height: 1.2em;}#sk-container-id-1 div.sk-label-container {text-align: center;}#sk-container-id-1 div.sk-container {/* jupyter's `normalize.less` sets `[hidden] { display: none; }` but bootstrap.min.css set `[hidden] { display: none !important; }` so we also need the `!important` here to be able to override the default hidden behavior on the sphinx rendered scikit-learn.org. See: https://github.com/scikit-learn/scikit-learn/issues/21755 */display: inline-block !important;position: relative;}#sk-container-id-1 div.sk-text-repr-fallback {display: none;}</style><div id=\"sk-container-id-1\" class=\"sk-top-container\"><div class=\"sk-text-repr-fallback\"><pre>MLPClassifier(alpha=1e-05, hidden_layer_sizes=25, max_iter=100000, solver=&#x27;sgd&#x27;)</pre><b>In a Jupyter environment, please rerun this cell to show the HTML representation or trust the notebook. <br />On GitHub, the HTML representation is unable to render, please try loading this page with nbviewer.org.</b></div><div class=\"sk-container\" hidden><div class=\"sk-item\"><div class=\"sk-estimator sk-toggleable\"><input class=\"sk-toggleable__control sk-hidden--visually\" id=\"sk-estimator-id-1\" type=\"checkbox\" checked><label for=\"sk-estimator-id-1\" class=\"sk-toggleable__label sk-toggleable__label-arrow\">MLPClassifier</label><div class=\"sk-toggleable__content\"><pre>MLPClassifier(alpha=1e-05, hidden_layer_sizes=25, max_iter=100000, solver=&#x27;sgd&#x27;)</pre></div></div></div></div></div>"
      ],
      "text/plain": [
       "MLPClassifier(alpha=1e-05, hidden_layer_sizes=25, max_iter=100000, solver='sgd')"
      ]
     },
     "execution_count": 24,
     "metadata": {},
     "output_type": "execute_result"
    }
   ],
   "source": [
    "model = MLPClassifier(solver='sgd', alpha=1e-5, hidden_layer_sizes=(25),max_iter=100000)\n",
    "#Xt, Xtt, Yt, Ytt = train_test_split(X, Y, random_state=0, test_size=0.7)\n",
    "model.fit(Xt, Yt)\n"
   ]
  },
  {
   "cell_type": "code",
   "execution_count": 25,
   "metadata": {
    "colab": {
     "background_save": true
    },
    "id": "4M7gZVVWl00F"
   },
   "outputs": [],
   "source": [
    "# Choisir un image de test \n",
    "c=0"
   ]
  },
  {
   "cell_type": "code",
   "execution_count": 26,
   "metadata": {
    "colab": {
     "background_save": true
    },
    "id": "Xy0Rda31l00F",
    "scrolled": true
   },
   "outputs": [
    {
     "data": {
      "text/plain": [
       "array([9])"
      ]
     },
     "execution_count": 26,
     "metadata": {},
     "output_type": "execute_result"
    }
   ],
   "source": [
    "model.predict([Xtt[c,:]])"
   ]
  },
  {
   "cell_type": "code",
   "execution_count": 27,
   "metadata": {
    "colab": {
     "background_save": true
    },
    "id": "QN122JmZl00G"
   },
   "outputs": [
    {
     "data": {
      "text/plain": [
       "array([[1.06753659e-07, 9.71654949e-07, 1.53299247e-07, 2.54299768e-03,\n",
       "        1.58959338e-04, 3.20517518e-04, 4.87823909e-08, 2.29872491e-04,\n",
       "        2.99853616e-04, 9.96446519e-01]])"
      ]
     },
     "execution_count": 27,
     "metadata": {},
     "output_type": "execute_result"
    }
   ],
   "source": [
    "# pour ROC, il faudra les probabilités:\n",
    "model.predict_proba([Xtt[c,:]])"
   ]
  },
  {
   "cell_type": "markdown",
   "metadata": {
    "id": "5bnMb0U1l00H"
   },
   "source": [
    "Afficher l'image testée"
   ]
  },
  {
   "cell_type": "code",
   "execution_count": 28,
   "metadata": {
    "colab": {
     "background_save": true
    },
    "id": "wX7-5roHl00H"
   },
   "outputs": [
    {
     "data": {
      "text/plain": [
       "<matplotlib.image.AxesImage at 0x2030ff6b850>"
      ]
     },
     "execution_count": 28,
     "metadata": {},
     "output_type": "execute_result"
    },
    {
     "data": {
      "image/png": "[encoded data removed]",
      "text/plain": [
       "<Figure size 640x480 with 1 Axes>"
      ]
     },
     "metadata": {},
     "output_type": "display_data"
    }
   ],
   "source": [
    "a = Xtt[c,:].reshape((20, 20))\n",
    "a=np.transpose(a)\n",
    "plt.title('label '+ str(Ytt[c]))\n",
    "plt.imshow(a,cmap='gray')"
   ]
  },
  {
   "cell_type": "markdown",
   "metadata": {
    "id": "lXTjUzQal00J"
   },
   "source": [
    "# Méthode 4: RNC\n",
    "Réseaux de Neurones Convolutifs"
   ]
  },
  {
   "cell_type": "markdown",
   "metadata": {
    "id": "_txSaLVpl00L"
   },
   "source": [
    "# Appliquer les métriques implementées pour voir le résultat"
   ]
  },
  {
   "cell_type": "markdown",
   "metadata": {},
   "source": [
    "### Dans cette partie on vas comparé l'implementation des métriques de sklearn avec notre implémentation  :\n",
    "* sklearn a comme métrique définit la matrice de confusion , l'accuracy ,le recall (rapell) et la precision (c'est métrique seront calculé pour tous les modèle knn,svm,arbre de décision et résaux de nouerone ).\n",
    "* sklearn ne permmet pas de claculé directement ne premet pas de calculer la Spécificité et le Taux de FP directement dans le cadre de classification multi-class  mais il permet de les calculer dans un cas binaire dans le cadre de la courbe ROC donc on vas tracer les courbe ROC pour toutes les classes en utilsant notre implémentation et l'implémentation de sklearn (pour les modèle qui retoune aussi des proba dans notre cas knn et RN).\n",
    "* lors des évaluation on a trouvez que l'implementation de sklearn de l'accuracy  est différente de l'implémentation qu'on a vu durant le cour et le tp sklearn calcule l'accuracy de la maniére suivante (nombre d'instance bien prédit)/(nombre totale des instances) donc on a implémenter une autre fonction pour calculer de l'accuracy de la meme maniére et on vas afficher l'accuracy selon les deux définition \n",
    "* pour la précision et le recall la valeur retourner par sklearn pour le multi class la valeur retourner est la moyenne de la métrique pour chaque classe donc lors de l'affichage en vas afficher la moyenne du vecteur retourner par notre implémentation "
   ]
  },
  {
   "cell_type": "code",
   "execution_count": 29,
   "metadata": {},
   "outputs": [],
   "source": [
    "#implémentation de l'accuracy comme définit par sklearn ou TP est le vecteur des vrai postifs pour chaque classe \n",
    "# et N et le nombre de données prédites\n",
    "def accuracy_sk(TP,N):\n",
    "    accuracy=np.sum(TP)/N\n",
    "    return accuracy"
   ]
  },
  {
   "cell_type": "markdown",
   "metadata": {},
   "source": [
    "## KNN"
   ]
  },
  {
   "cell_type": "markdown",
   "metadata": {},
   "source": [
    "### Calcul des métriques "
   ]
  },
  {
   "cell_type": "code",
   "execution_count": 30,
   "metadata": {
    "colab": {
     "background_save": true
    },
    "id": "nkZxFuQKl00M"
   },
   "outputs": [],
   "source": [
    "#géneration des prediction avec knn de sklearn et calcule des métrique en utilsant sklearn\n",
    "\n",
    "knn = KNeighborsClassifier(n_neighbors = 8).fit(Xt, Yt)\n",
    "y_pred = knn.predict(Xtt)\n",
    "\n",
    "m=metrics.confusion_matrix(Ytt, y_pred)\n",
    "accuracy=metrics.accuracy_score(Ytt, y_pred)\n",
    "recall=metrics.recall_score(Ytt, y_pred,average='macro')\n",
    "precision=metrics.precision_score(Ytt, y_pred,average='macro')"
   ]
  },
  {
   "cell_type": "code",
   "execution_count": 31,
   "metadata": {},
   "outputs": [],
   "source": [
    "#géneration des prediction avec notre implémentation  de knn et calcule des métrique en utilsant notre implémentation\n",
    "\n",
    "knntp = KNNClassifier(k=8)\n",
    "knntp.fit(Xt, Yt)\n",
    "y_pred = knntp.predict(Xtt)\n",
    "\n",
    "mtp= ConfusionMatrix(Ytt, y_pred)\n",
    "TP,FN,FP,TN=extract(mtp)\n",
    "accuracytp=np.mean(Accuracy(TP,TN,FP,FN))\n",
    "accuracytp_sk=accuracy_sk(TP,len(Xtt))\n",
    "recalltp= np.mean(Recall(TP,FN))\n",
    "precisiontp= np.mean(Precision(TP,FP))"
   ]
  },
  {
   "cell_type": "code",
   "execution_count": 32,
   "metadata": {},
   "outputs": [
    {
     "name": "stdout",
     "output_type": "stream",
     "text": [
      "matrice de confusion sklearn \n",
      "\n",
      "[[140   0   0   0   0   1   2   0   0   0]\n",
      " [  0 147   1   2   0   0   0   0   0   1]\n",
      " [  6   8 111   4   5   0   5   1   5   1]\n",
      " [  1   2   2 131   2   1   0   4   3   1]\n",
      " [  2   8   3   0 115   2   1   1   0  10]\n",
      " [  4   2   1  13   1 109   2   0   8   8]\n",
      " [  3   1   3   0   0   0 135   0   0   0]\n",
      " [  0   4   0   0   6   1   0 143   1  15]\n",
      " [  3   8   1   6   0   7   1   0 133   3]\n",
      " [  3   3   1   1   9   1   1   3   1 126]]\n",
      "\n",
      " matrice de confusion implémentation TP \n",
      "\n",
      "[[140   0   0   0   0   1   2   0   0   0]\n",
      " [  0 147   1   2   0   0   0   0   0   1]\n",
      " [  6   8 111   4   5   0   5   1   5   1]\n",
      " [  1   2   2 131   2   1   0   4   3   1]\n",
      " [  2   8   3   0 115   2   1   1   0  10]\n",
      " [  4   2   1  13   1 109   2   0   8   8]\n",
      " [  3   1   3   0   0   0 135   0   0   0]\n",
      " [  0   4   0   0   6   1   0 143   1  15]\n",
      " [  3   8   1   6   0   7   1   0 133   3]\n",
      " [  3   3   1   1   9   1   1   3   1 126]]\n",
      "\n",
      " accuracy sklearn: 0.86\n",
      "\n",
      " accuracy implementé comme sklearn: 0.86\n",
      "\n",
      " accuracy implementé selon la définition du cour: 0.9719999999999999\n",
      "\n",
      " recall sklearn: 0.8608812923553604\n",
      "\n",
      " recall implémentation TP: 0.8608812923553604\n",
      "\n",
      " précision sklearn: 0.8634673990767888\n",
      "\n",
      " précision implémentation TP: 0.8634673990767888\n"
     ]
    }
   ],
   "source": [
    "# affichage des résultats\n",
    "print(\"matrice de confusion sklearn \\n\")\n",
    "print(m)\n",
    "print(\"\\n matrice de confusion implémentation TP \\n\")\n",
    "print(mtp)\n",
    "print(\"\\n accuracy sklearn: \"+str(accuracy))\n",
    "print(\"\\n accuracy implementé comme sklearn: \"+str(accuracytp_sk))\n",
    "print(\"\\n accuracy implementé selon la définition du cour: \"+str(accuracytp))\n",
    "print(\"\\n recall sklearn: \"+str(recall))\n",
    "print(\"\\n recall implémentation TP: \"+str(recalltp))\n",
    "print(\"\\n précision sklearn: \"+str(precision))\n",
    "print(\"\\n précision implémentation TP: \"+str(precisiontp))\n"
   ]
  },
  {
   "cell_type": "markdown",
   "metadata": {},
   "source": [
    "### Courbe ROC"
   ]
  },
  {
   "cell_type": "code",
   "execution_count": null,
   "metadata": {},
   "outputs": [
    {
     "name": "stdout",
     "output_type": "stream",
     "text": [
      "Courbe ROC avec sklearn\n"
     ]
    },
    {
     "data": {
      "image/png": "[encoded data removed]",
      "text/plain": [
       "<Figure size 640x480 with 1 Axes>"
      ]
     },
     "metadata": {},
     "output_type": "display_data"
    },
    {
     "name": "stdout",
     "output_type": "stream",
     "text": [
      "Courbe ROC avec notre implémentation\n"
     ]
    }
   ],
   "source": [
    "#géneration des probas et creation des courbe ROC avec sklearn \n",
    "pred=knn.predict_proba(Xtt)\n",
    "fprs,tprs,rocs,_,_,_ =roc_class(Ytt,pred)\n",
    "print(\"Courbe ROC avec sklearn\")\n",
    "roc_figure(fprs,tprs,rocs) \n",
    "print(\"Courbe ROC avec notre implémentation\")\n",
    "#géneration des probas et creation des courbe ROC avec notre implémentation\n",
    "pred=knntp.predict_proba(Xtt)\n",
    "_,_,_,fprs1,tprs1,rocs1 =roc_class(Ytt,pred)\n",
    "roc_figure(fprs1,tprs1,rocs1 )"
   ]
  },
  {
   "cell_type": "markdown",
   "metadata": {},
   "source": [
    "## SVM"
   ]
  },
  {
   "cell_type": "markdown",
   "metadata": {},
   "source": [
    "### Calcul des métriques "
   ]
  },
  {
   "cell_type": "code",
   "execution_count": null,
   "metadata": {},
   "outputs": [],
   "source": [
    "#géneration des prediction  \n",
    "\n",
    "model= svm.SVC(kernel='linear')  \n",
    "model.fit(Xt, Yt)\n",
    "y_pred = model.predict(Xtt)\n",
    "\n",
    "# calcule des métrique en utilsant sklearn\n",
    "\n",
    "m=metrics.confusion_matrix(Ytt, y_pred)\n",
    "accuracy=metrics.accuracy_score(Ytt, y_pred)\n",
    "recall=metrics.recall_score(Ytt, y_pred,average='macro')\n",
    "precision=metrics.precision_score(Ytt, y_pred,average='macro')\n",
    "\n",
    "# calcule des métrique en utilsant notre implémentation\n",
    "\n",
    "mtp= ConfusionMatrix(Ytt, y_pred)\n",
    "TP,FN,FP,TN=extract(mtp)\n",
    "accuracytp=np.mean(Accuracy(TP,TN,FP,FN))\n",
    "accuracytp_sk=accuracy_sk(TP,len(Xtt))\n",
    "recalltp= np.mean(Recall(TP,FN))\n",
    "precisiontp= np.mean(Precision(TP,FP))\n",
    "\n",
    "# affichage des résultats\n",
    "\n",
    "print(\"matrice de confusion sklearn \\n\")\n",
    "print(m)\n",
    "print(\"\\n matrice de confusion implémentation TP \\n\")\n",
    "print(mtp)\n",
    "print(\"\\n accuracy sklearn: \"+str(accuracy))\n",
    "print(\"\\n accuracy implementé comme sklearn: \"+str(accuracytp_sk))\n",
    "print(\"\\n accuracy implementé selon la définition du cour: \"+str(accuracytp))\n",
    "print(\"\\n recall sklearn: \"+str(recall))\n",
    "print(\"\\n recall implémentation TP: \"+str(recalltp))\n",
    "print(\"\\n précision sklearn: \"+str(precision))\n",
    "print(\"\\n précision implémentation TP: \"+str(precisiontp))"
   ]
  },
  {
   "cell_type": "markdown",
   "metadata": {},
   "source": [
    "## Arbres de décision "
   ]
  },
  {
   "cell_type": "markdown",
   "metadata": {},
   "source": [
    "### Calcul des métriques "
   ]
  },
  {
   "cell_type": "code",
   "execution_count": null,
   "metadata": {},
   "outputs": [],
   "source": [
    "#géneration des prediction \n",
    "\n",
    "model = DecisionTreeClassifier()\n",
    "model = model.fit(Xt, Yt)\n",
    "y_pred = model.predict(Xtt)\n",
    "\n",
    "# calcule des métrique en utilsant sklearn\n",
    "\n",
    "m=metrics.confusion_matrix(Ytt, y_pred)\n",
    "accuracy=metrics.accuracy_score(Ytt, y_pred)\n",
    "recall=metrics.recall_score(Ytt, y_pred,average='macro')\n",
    "precision=metrics.precision_score(Ytt, y_pred,average='macro')\n",
    "\n",
    "# calcule des métrique en utilsant notre implémentation\n",
    "\n",
    "mtp= ConfusionMatrix(Ytt, y_pred)\n",
    "TP,FN,FP,TN=extract(mtp)\n",
    "accuracytp=np.mean(Accuracy(TP,TN,FP,FN))\n",
    "accuracytp_sk=accuracy_sk(TP,len(Xtt))\n",
    "recalltp= np.mean(Recall(TP,FN))\n",
    "precisiontp= np.mean(Precision(TP,FP))\n",
    "\n",
    "# affichage des résultats\n",
    "\n",
    "print(\"matrice de confusion sklearn \\n\")\n",
    "print(m)\n",
    "print(\"\\n matrice de confusion implémentation TP \\n\")\n",
    "print(mtp)\n",
    "print(\"\\n accuracy sklearn: \"+str(accuracy))\n",
    "print(\"\\n accuracy implementé comme sklearn: \"+str(accuracytp_sk))\n",
    "print(\"\\n accuracy implementé selon la définition du cour: \"+str(accuracytp))\n",
    "print(\"\\n recall sklearn: \"+str(recall))\n",
    "print(\"\\n recall implémentation TP: \"+str(recalltp))\n",
    "print(\"\\n précision sklearn: \"+str(precision))\n",
    "print(\"\\n précision implémentation TP: \"+str(precisiontp))"
   ]
  },
  {
   "cell_type": "markdown",
   "metadata": {},
   "source": [
    "## RN"
   ]
  },
  {
   "cell_type": "markdown",
   "metadata": {},
   "source": [
    "### Calcul des métriques "
   ]
  },
  {
   "cell_type": "code",
   "execution_count": null,
   "metadata": {},
   "outputs": [],
   "source": [
    "#géneration des prediction \n",
    "\n",
    "model = MLPClassifier(solver='sgd', alpha=1e-5, hidden_layer_sizes=(25),max_iter=100000)\n",
    "model.fit(Xt, Yt)\n",
    "y_pred=model.predict(Xtt)\n",
    "\n",
    "# calcule des métrique en utilsant sklearn\n",
    "\n",
    "m=metrics.confusion_matrix(Ytt, y_pred)\n",
    "accuracy=metrics.accuracy_score(Ytt, y_pred)\n",
    "recall=metrics.recall_score(Ytt, y_pred,average='macro')\n",
    "precision=metrics.precision_score(Ytt, y_pred,average='macro')\n",
    "\n",
    "# calcule des métrique en utilsant notre implémentation\n",
    "\n",
    "mtp= ConfusionMatrix(Ytt, y_pred)\n",
    "TP,FN,FP,TN=extract(mtp)\n",
    "accuracytp=np.mean(Accuracy(TP,TN,FP,FN))\n",
    "accuracytp_sk=accuracy_sk(TP,len(Xtt))\n",
    "recalltp= np.mean(Recall(TP,FN))\n",
    "precisiontp= np.mean(Precision(TP,FP))\n",
    "\n",
    "# affichage des résultats\n",
    "\n",
    "print(\"matrice de confusion sklearn \\n\")\n",
    "print(m)\n",
    "print(\"\\n matrice de confusion implémentation TP \\n\")\n",
    "print(mtp)\n",
    "print(\"\\n accuracy sklearn: \"+str(accuracy))\n",
    "print(\"\\n accuracy implementé comme sklearn: \"+str(accuracytp_sk))\n",
    "print(\"\\n accuracy implementé selon la définition du cour: \"+str(accuracytp))\n",
    "print(\"\\n recall sklearn: \"+str(recall))\n",
    "print(\"\\n recall implémentation TP: \"+str(recalltp))\n",
    "print(\"\\n précision sklearn: \"+str(precision))\n",
    "print(\"\\n précision implémentation TP: \"+str(precisiontp))\n",
    "\n",
    "    "
   ]
  },
  {
   "cell_type": "markdown",
   "metadata": {},
   "source": [
    "### Courbe ROC"
   ]
  },
  {
   "cell_type": "code",
   "execution_count": null,
   "metadata": {},
   "outputs": [],
   "source": [
    "#géneration des probas\n",
    "pred=model.predict_proba(Xtt)\n",
    "print(\"Courbe ROC avec sklearn\")\n",
    "fprs,tprs,rocs,fprs1,tprs1,rocs1 =roc_class(Ytt,pred)\n",
    "roc_figure(fprs,tprs,rocs) \n",
    "print(\"Courbe ROC avec notre implémentation\")\n",
    "roc_figure(fprs1,tprs1,rocs1) "
   ]
  },
  {
   "cell_type": "code",
   "execution_count": null,
   "metadata": {},
   "outputs": [],
   "source": []
  }
 ],
 "metadata": {
  "colab": {
   "collapsed_sections": [],
   "name": "TP 1 Mesures de performance.ipynb",
   "provenance": []
  },
  "interpreter": {
   "hash": "bf99e9a38af5338f0f4a922a96e24bc2c677f7efa309e8c107219aad289588ae"
  },
  "kernelspec": {
   "display_name": "Python 3 (ipykernel)",
   "language": "python",
   "name": "python3"
  },
  "language_info": {
   "codemirror_mode": {
    "name": "ipython",
    "version": 3
   },
   "file_extension": ".py",
   "mimetype": "text/x-python",
   "name": "python",
   "nbconvert_exporter": "python",
   "pygments_lexer": "ipython3",
   "version": "3.10.9"
  },
  "vscode": {
   "interpreter": {
    "hash": "8f2952f3fd99107120ad6d2ff95a055d549e8ae6787905b7beff0a41377fdefc"
   }
  }
 },
 "nbformat": 4,
 "nbformat_minor": 1
}
